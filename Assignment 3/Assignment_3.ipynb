{
 "cells": [
  {
   "cell_type": "code",
   "execution_count": 1683,
   "metadata": {},
   "outputs": [],
   "source": [
    "import h5py\n",
    "from sklearn.model_selection import train_test_split\n",
    "from sklearn.metrics import accuracy_score,confusion_matrix\n",
    "import numpy as np\n",
    "import matplotlib.pyplot as plt\n",
    "import seaborn as sn\n",
    "import pandas as pd\n",
    "%matplotlib inline"
   ]
  },
  {
   "cell_type": "code",
   "execution_count": 1684,
   "metadata": {},
   "outputs": [],
   "source": [
    "import warnings\n",
    "warnings.filterwarnings('ignore')"
   ]
  },
  {
   "cell_type": "code",
   "execution_count": 1685,
   "metadata": {},
   "outputs": [],
   "source": [
    "data = h5py.File('data/Q1/MNIST_Subset.h5','r+')\n",
    "X=data['X'][:]\n",
    "Y=data['Y'][:]"
   ]
  },
  {
   "cell_type": "code",
   "execution_count": 1686,
   "metadata": {},
   "outputs": [
    {
     "data": {
      "text/plain": [
       "((14251, 28, 28), (14251,))"
      ]
     },
     "execution_count": 1686,
     "metadata": {},
     "output_type": "execute_result"
    }
   ],
   "source": [
    "X.shape,Y.shape"
   ]
  },
  {
   "cell_type": "code",
   "execution_count": 1687,
   "metadata": {},
   "outputs": [],
   "source": [
    "X = X.reshape(X.shape[0],-1)"
   ]
  },
  {
   "cell_type": "code",
   "execution_count": 1688,
   "metadata": {},
   "outputs": [],
   "source": [
    "X=X/255"
   ]
  },
  {
   "cell_type": "code",
   "execution_count": 1689,
   "metadata": {},
   "outputs": [
    {
     "data": {
      "text/plain": [
       "array([7, 9], dtype=uint8)"
      ]
     },
     "execution_count": 1689,
     "metadata": {},
     "output_type": "execute_result"
    }
   ],
   "source": [
    "np.unique(Y)"
   ]
  },
  {
   "cell_type": "code",
   "execution_count": 1690,
   "metadata": {},
   "outputs": [],
   "source": [
    "#as we only have 2 classes\n",
    "Y = np.where(Y==7,0,1)"
   ]
  },
  {
   "cell_type": "code",
   "execution_count": 1691,
   "metadata": {},
   "outputs": [],
   "source": [
    "X_train,X_test,Y_train,Y_test = train_test_split(X,Y,test_size=0.2, random_state=42)"
   ]
  },
  {
   "cell_type": "code",
   "execution_count": 1692,
   "metadata": {},
   "outputs": [
    {
     "data": {
      "text/plain": [
       "((11400, 784), (2851, 784), (11400,), (2851,))"
      ]
     },
     "execution_count": 1692,
     "metadata": {},
     "output_type": "execute_result"
    }
   ],
   "source": [
    "X_train.shape,X_test.shape,Y_train.shape,Y_test.shape"
   ]
  },
  {
   "cell_type": "code",
   "execution_count": 1693,
   "metadata": {},
   "outputs": [],
   "source": [
    "def one_hot_encoding(Y):\n",
    "    n_classes = len(np.unique(Y))\n",
    "    Y=Y.reshape(1,Y.shape[0])\n",
    "    Y_new = np.eye(n_classes)[Y.astype('int32')]\n",
    "    Y_new = Y_new.T.reshape(n_classes, Y.shape[1])\n",
    "    return Y_new,n_classes"
   ]
  },
  {
   "cell_type": "code",
   "execution_count": 1694,
   "metadata": {},
   "outputs": [],
   "source": [
    "Y_train,n_classes = one_hot_encoding(Y_train)\n",
    "Y_test,n_classes=one_hot_encoding(Y_test)"
   ]
  },
  {
   "cell_type": "code",
   "execution_count": 1695,
   "metadata": {},
   "outputs": [
    {
     "data": {
      "text/plain": [
       "((2, 11400), (2, 2851))"
      ]
     },
     "execution_count": 1695,
     "metadata": {},
     "output_type": "execute_result"
    }
   ],
   "source": [
    "Y_train.shape,Y_test.shape"
   ]
  },
  {
   "cell_type": "code",
   "execution_count": 1696,
   "metadata": {},
   "outputs": [],
   "source": [
    "X_train=X_train.T\n",
    "X_test=X_test.T"
   ]
  },
  {
   "cell_type": "code",
   "execution_count": 1697,
   "metadata": {},
   "outputs": [
    {
     "data": {
      "text/plain": [
       "((784, 11400), (784, 2851), (2, 11400), (2, 2851))"
      ]
     },
     "execution_count": 1697,
     "metadata": {},
     "output_type": "execute_result"
    }
   ],
   "source": [
    "X_train.shape,X_test.shape,Y_train.shape,Y_test.shape"
   ]
  },
  {
   "cell_type": "code",
   "execution_count": 1698,
   "metadata": {},
   "outputs": [],
   "source": [
    "def relu(z,derative = False):\n",
    "    if derative:\n",
    "        z[z<=0]=0\n",
    "        z[z>0]=1\n",
    "        return z\n",
    "    z[z<0]=0\n",
    "    return z"
   ]
  },
  {
   "cell_type": "code",
   "execution_count": 1699,
   "metadata": {},
   "outputs": [],
   "source": [
    "def sigmoid(z,derative = False):\n",
    "    if derative:\n",
    "        print(\"===================input to sigmoid derv====================\")\n",
    "        print(z)\n",
    "        print(\"================output of sig derv=============\")\n",
    "        temp = sigmoid(z)*(1-sigmoid(z))\n",
    "        print(temp)\n",
    "#         return z*(1-z)\n",
    "        return temp\n",
    "    return 1.0/(1.0+np.exp(-z))"
   ]
  },
  {
   "cell_type": "code",
   "execution_count": 1700,
   "metadata": {},
   "outputs": [],
   "source": [
    "def softmax(z):\n",
    "    z=z-np.max(z,axis=0)\n",
    "    return np.exp(z)/np.sum(np.exp(z),axis=0)"
   ]
  },
  {
   "cell_type": "code",
   "execution_count": 1701,
   "metadata": {},
   "outputs": [],
   "source": [
    "def compute_multiclass_loss(Y, Y_hat):\n",
    "    print(\"&&&&&&&&&&&&&INSIDe cost function%%%%%%%%%%\")\n",
    "    print(\"===========true labels===================\")\n",
    "    print(Y)\n",
    "    print(\"===========predic labels===================\")\n",
    "    print(Y_hat)\n",
    "    print(\"========fixing predicted loss=========\")\n",
    "    Y_hat[Y_hat==0.] = 0.0001\n",
    "    Y_hat[Y_hat==1.] = 0.9999\n",
    "    print(Y_hat)\n",
    "    print(\"============log of lablesl=============\")\n",
    "    print(np.log(Y_hat))\n",
    "    print(\"=================multiple=============\")\n",
    "    print(np.multiply(Y, np.log(Y_hat)))\n",
    "    L_sum = np.sum(np.multiply(Y, np.log(Y_hat)))\n",
    "    m = Y.shape[1]\n",
    "    return -(1/m) * L_sum"
   ]
  },
  {
   "cell_type": "code",
   "execution_count": 1702,
   "metadata": {},
   "outputs": [],
   "source": [
    "def get_class_values(results):\n",
    "    return results.argmax(axis=0)"
   ]
  },
  {
   "cell_type": "code",
   "execution_count": 1703,
   "metadata": {},
   "outputs": [],
   "source": [
    "def init_weights(n_hidden_layers, number_of_neurons):\n",
    "    weights_layers =[np.random.uniform(size=(number_of_neurons[0],X_train.shape[0]))]\n",
    "    bias_layers = [np.random.uniform(size=(number_of_neurons[0],1))]\n",
    "    \n",
    "    for i in range(1,n_hidden_layers):\n",
    "        weights_layers.append(np.random.uniform(size=(number_of_neurons[i],weights_layers[i-1].shape[0])))\n",
    "        bias_layers.append(np.random.uniform(size=(number_of_neurons[i],1)))\n",
    "    \n",
    "    weights_layers.append(np.random.uniform(size=(n_classes,weights_layers[-1].shape[0])))\n",
    "    bias_layers.append(np.random.uniform(size=(n_classes,1)))\n",
    "    \n",
    "    return weights_layers,bias_layers"
   ]
  },
  {
   "cell_type": "code",
   "execution_count": 1704,
   "metadata": {},
   "outputs": [],
   "source": [
    "def train_neural_network(X_train,Y_train,epoch,learning_rate,hidden_layer_activation):\n",
    "    global weight_layers\n",
    "    global bias_layers\n",
    "    \n",
    "    cost=[]\n",
    "    number_of_samples = X_train.shape[1]\n",
    "\n",
    "    \n",
    "    #------epoch start here----------\n",
    "    while epoch>0:\n",
    "        print(\"################EPOCH start here ############\")\n",
    "        input_layers = [X_train]\n",
    "        output_layers=[X_train]\n",
    "\n",
    "        delta_weights = []\n",
    "        delta_bias = []\n",
    "\n",
    "\n",
    "        for weight,bias in zip(weight_layers[:-1],bias_layers[:-1]):\n",
    "            print(\"%%%%%%%%%%%%%Hidden layer%%%%%%%%%%%%%%\")\n",
    "            print(\"=========A in W.A+B=============\")\n",
    "            print(output_layers[-1])\n",
    "            print(\"=========W in W.A+B=============\")\n",
    "            print(weight)\n",
    "            print(\"=========B in W.A+B=============\")\n",
    "            print(bias)\n",
    "            input_layers.append(np.dot(weight,output_layers[-1])+bias)\n",
    "            print('==============input to the layer==============')\n",
    "            print(input_layers[-1])\n",
    "            output_layers.append(hidden_layer_activation(input_layers[-1]))\n",
    "            print(\"============output after activation===========\")\n",
    "            print(output_layers[-1])\n",
    "\n",
    "        print('%%%%%%%%%%%%%%%%output layer%%%%%%%%%%%%%')\n",
    "        print(\"=========A in W.A+B=============\")\n",
    "        print(output_layers[-1])\n",
    "        print(\"=========W in W.A+B=============\")\n",
    "        print(weight_layers[-1])\n",
    "        print(\"=========B in W.A+B=============\")\n",
    "        print(bias_layers[-1])\n",
    "        input_layers.append(np.dot(weight_layers[-1],output_layers[-1])+bias_layers[-1])\n",
    "        print('==============input to the layer==============')\n",
    "        print(input_layers[-1])\n",
    "        output_layers.append(softmax(input_layers[-1]))\n",
    "        print(\"============output after activation===========\")\n",
    "        print(output_layers[-1])\n",
    "        \n",
    "        \n",
    "        c=compute_multiclass_loss(Y_train,output_layers[-1])\n",
    "        print(f\"cost = {c}\")\n",
    "        if np.isnan(c):\n",
    "            print(\"^^^^^^^^^^^^^^^^^^^^^^^^^^^^^^^^^^^^^^^^^^^^^^^\")\n",
    "        cost.append(c)\n",
    "        \n",
    "\n",
    "        #------Output layer error --------\n",
    "        error = output_layers[-1] - Y_train\n",
    "        print(\"================output layer error==========\")\n",
    "        print(error)\n",
    "        \n",
    "        \n",
    "        delta_weights.append((1./number_of_samples)*np.dot(error,output_layers[-2].T))\n",
    "        print(\"=====delta weight output layer============\")\n",
    "        print(delta_weights[0])\n",
    "        \n",
    "        delta_bias.append((1./number_of_samples)*np.sum(error, axis=1, keepdims=True))\n",
    "        print(\"=====delta bias output layer============\")\n",
    "        print(delta_bias[0])\n",
    "        \n",
    "        #-----hidden layer stuff\n",
    "\n",
    "        for i in range(len(input_layers)-1)[:0:-1]:\n",
    "            error = np.dot(weight_layers[i].T,error)\n",
    "            print(\"==============error this layer========\")\n",
    "            print(error)\n",
    "            delta_z = error*hidden_layer_activation(input_layers[i],derative=True)\n",
    "            print(\"==========input layer derv==========\")\n",
    "            print(hidden_layer_activation(input_layers[i],derative=True))\n",
    "            print(\"=======delta z===========\")\n",
    "            print(delta_z)\n",
    "            delta_weights.insert(0,(1./number_of_samples)*np.dot(delta_z,output_layers[i-1].T))\n",
    "            print(\"=====delta weight layer============\")\n",
    "            print(delta_weights[0])\n",
    "            delta_bias.insert(0,(1./number_of_samples)*np.sum(error,axis=1,keepdims=True))\n",
    "            print(\"=====delta bias layer============\")\n",
    "            print(delta_bias[0])\n",
    "\n",
    "        for i in range(len(weight_layers)):\n",
    "#             delta_weights[i][np.isnan(delta_weights[i])] = 0.0\n",
    "            weight_layers[i]=weight_layers[i]-learning_rate*delta_weights[i]\n",
    "            bias_layers[i]=bias_layers[i]-learning_rate*delta_bias[i]\n",
    "        if np.isnan(c):\n",
    "            assert(False)\n",
    "        epoch-=1\n",
    "\n",
    "    return cost"
   ]
  },
  {
   "cell_type": "code",
   "execution_count": 1713,
   "metadata": {},
   "outputs": [],
   "source": [
    "#hyperparameters\n",
    "epoch = 20\n",
    "learning_rate = 0.01"
   ]
  },
  {
   "cell_type": "code",
   "execution_count": 1728,
   "metadata": {
    "scrolled": true
   },
   "outputs": [],
   "source": [
    "%%capture\n",
    "weight_layers,bias_layers = init_weights(3,[100,50,50])\n",
    "hidden_layer_activation = sigmoid\n",
    "cost = train_neural_network(X_train,Y_train,epoch,learning_rate,hidden_layer_activation=hidden_layer_activation)\n",
    "# cost = train_neural_network(X_train,Y_train,epoch,learning_rate)"
   ]
  },
  {
   "cell_type": "code",
   "execution_count": 1729,
   "metadata": {},
   "outputs": [],
   "source": [
    "# cost#"
   ]
  },
  {
   "cell_type": "code",
   "execution_count": 1730,
   "metadata": {},
   "outputs": [
    {
     "data": {
      "text/plain": [
       "[<matplotlib.lines.Line2D at 0x7fc33d9f3908>]"
      ]
     },
     "execution_count": 1730,
     "metadata": {},
     "output_type": "execute_result"
    },
    {
     "data": {
      "image/png": "[encoded data removed]",
      "text/plain": [
       "<Figure size 432x288 with 1 Axes>"
      ]
     },
     "metadata": {
      "needs_background": "light"
     },
     "output_type": "display_data"
    }
   ],
   "source": [
    "plt.plot(range(len(cost)),cost)"
   ]
  },
  {
   "cell_type": "code",
   "execution_count": 1731,
   "metadata": {},
   "outputs": [],
   "source": [
    "def predict(X_test,hidden_layer_activation):\n",
    "    global weight_layers\n",
    "    global bias_layers\n",
    "    \n",
    "\n",
    "    input_layers = [X_test]\n",
    "    output_layers=[X_test]\n",
    "\n",
    "    for weight,bias in zip(weight_layers[:-1],bias_layers[:-1]):\n",
    "        input_layers.append(np.dot(weight,output_layers[-1])+bias)\n",
    "        output_layers.append(hidden_layer_activation(input_layers[-1]))\n",
    "\n",
    "    input_layers.append(np.dot(weight_layers[-1],output_layers[-1])+bias_layers[-1])\n",
    "    output_layers.append(softmax(input_layers[-1]))\n",
    "    return get_class_values(output_layers[-1])"
   ]
  },
  {
   "cell_type": "code",
   "execution_count": 1732,
   "metadata": {},
   "outputs": [],
   "source": [
    "def get_performance(x,y):\n",
    "    results = predict(x,hidden_layer_activation=hidden_layer_activation)\n",
    "    y=get_class_values(y)\n",
    "    acc = accuracy_score(y,results)\n",
    "    print(f\"Accuracy score = {acc}\")\n",
    "    cnf = confusion_matrix(y,results)\n",
    "    print(cnf)\n",
    "    df_cm = pd.DataFrame(cnf, index = range(2),columns = range(2))\n",
    "    sn.heatmap(df_cm, annot=True)\n",
    "    return acc"
   ]
  },
  {
   "cell_type": "code",
   "execution_count": 1733,
   "metadata": {},
   "outputs": [
    {
     "name": "stdout",
     "output_type": "stream",
     "text": [
      "Accuracy score = 0.512101017186952\n",
      "[[1460    0]\n",
      " [1391    0]]\n"
     ]
    },
    {
     "data": {
      "text/plain": [
       "0.512101017186952"
      ]
     },
     "execution_count": 1733,
     "metadata": {},
     "output_type": "execute_result"
    },
    {
     "data": {
      "image/png": "[encoded data removed]",
      "text/plain": [
       "<Figure size 432x288 with 2 Axes>"
      ]
     },
     "metadata": {
      "needs_background": "light"
     },
     "output_type": "display_data"
    }
   ],
   "source": [
    "get_performance(X_test,Y_test)"
   ]
  },
  {
   "cell_type": "code",
   "execution_count": 1734,
   "metadata": {},
   "outputs": [
    {
     "name": "stdout",
     "output_type": "stream",
     "text": [
      "Accuracy score = 0.5116666666666667\n",
      "[[5833    0]\n",
      " [5567    0]]\n"
     ]
    },
    {
     "data": {
      "text/plain": [
       "0.5116666666666667"
      ]
     },
     "execution_count": 1734,
     "metadata": {},
     "output_type": "execute_result"
    },
    {
     "data": {
      "image/png": "[encoded data removed]",
      "text/plain": [
       "<Figure size 432x288 with 2 Axes>"
      ]
     },
     "metadata": {
      "needs_background": "light"
     },
     "output_type": "display_data"
    }
   ],
   "source": [
    "get_performance(X_train,Y_train)"
   ]
  },
  {
   "cell_type": "code",
   "execution_count": null,
   "metadata": {},
   "outputs": [],
   "source": []
  }
 ],
 "metadata": {
  "kernelspec": {
   "display_name": "Python (ml_ass)",
   "language": "python",
   "name": "ml_ass"
  },
  "language_info": {
   "codemirror_mode": {
    "name": "ipython",
    "version": 3
   },
   "file_extension": ".py",
   "mimetype": "text/x-python",
   "name": "python",
   "nbconvert_exporter": "python",
   "pygments_lexer": "ipython3",
   "version": "3.6.6"
  }
 },
 "nbformat": 4,
 "nbformat_minor": 2
}
