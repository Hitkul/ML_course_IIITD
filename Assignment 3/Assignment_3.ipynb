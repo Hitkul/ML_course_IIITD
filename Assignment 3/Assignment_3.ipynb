{
 "cells": [
  {
   "cell_type": "code",
   "execution_count": 238,
   "metadata": {},
   "outputs": [],
   "source": [
    "import h5py\n",
    "from sklearn.model_selection import train_test_split\n",
    "import numpy as np"
   ]
  },
  {
   "cell_type": "code",
   "execution_count": 239,
   "metadata": {},
   "outputs": [],
   "source": [
    "data = h5py.File('data/Q1/MNIST_Subset.h5','r+')\n",
    "X=data['X'][:]\n",
    "Y=data['Y'][:]"
   ]
  },
  {
   "cell_type": "code",
   "execution_count": 240,
   "metadata": {},
   "outputs": [
    {
     "data": {
      "text/plain": [
       "((14251, 28, 28), (14251,))"
      ]
     },
     "execution_count": 240,
     "metadata": {},
     "output_type": "execute_result"
    }
   ],
   "source": [
    "X.shape,Y.shape"
   ]
  },
  {
   "cell_type": "code",
   "execution_count": 241,
   "metadata": {},
   "outputs": [],
   "source": [
    "X = X.reshape(X.shape[0],-1)"
   ]
  },
  {
   "cell_type": "code",
   "execution_count": 242,
   "metadata": {},
   "outputs": [],
   "source": [
    "X=X/255"
   ]
  },
  {
   "cell_type": "code",
   "execution_count": 243,
   "metadata": {},
   "outputs": [
    {
     "data": {
      "text/plain": [
       "array([7, 9], dtype=uint8)"
      ]
     },
     "execution_count": 243,
     "metadata": {},
     "output_type": "execute_result"
    }
   ],
   "source": [
    "np.unique(Y)"
   ]
  },
  {
   "cell_type": "code",
   "execution_count": 244,
   "metadata": {},
   "outputs": [],
   "source": [
    "#as we only have 2 classes\n",
    "Y = np.where(Y==7,0,1)"
   ]
  },
  {
   "cell_type": "code",
   "execution_count": 245,
   "metadata": {},
   "outputs": [],
   "source": [
    "X_train,X_test,Y_train,Y_test = train_test_split(X,Y,test_size=0.2, random_state=42)"
   ]
  },
  {
   "cell_type": "code",
   "execution_count": 246,
   "metadata": {},
   "outputs": [
    {
     "data": {
      "text/plain": [
       "((11400, 784), (2851, 784), (11400,), (2851,))"
      ]
     },
     "execution_count": 246,
     "metadata": {},
     "output_type": "execute_result"
    }
   ],
   "source": [
    "X_train.shape,X_test.shape,Y_train.shape,Y_test.shape"
   ]
  },
  {
   "cell_type": "code",
   "execution_count": 247,
   "metadata": {},
   "outputs": [],
   "source": [
    "def one_hot_encoding(Y):\n",
    "    n_classes = len(np.unique(Y))\n",
    "    Y=Y.reshape(1,Y.shape[0])\n",
    "    Y_new = np.eye(n_classes)[Y.astype('int32')]\n",
    "    Y_new = Y_new.T.reshape(n_classes, Y.shape[1])\n",
    "    return Y_new,n_classes\n",
    "#     targets = Y.reshape(-1)\n",
    "#     return np.eye(n_classes)[targets]"
   ]
  },
  {
   "cell_type": "code",
   "execution_count": 248,
   "metadata": {},
   "outputs": [],
   "source": [
    "Y_train,n_classes = one_hot_encoding(Y_train)\n",
    "Y_test,n_classes=one_hot_encoding(Y_test)"
   ]
  },
  {
   "cell_type": "code",
   "execution_count": 249,
   "metadata": {},
   "outputs": [
    {
     "data": {
      "text/plain": [
       "((2, 11400), (2, 2851))"
      ]
     },
     "execution_count": 249,
     "metadata": {},
     "output_type": "execute_result"
    }
   ],
   "source": [
    "Y_train.shape,Y_test.shape"
   ]
  },
  {
   "cell_type": "code",
   "execution_count": 250,
   "metadata": {},
   "outputs": [],
   "source": [
    "X_train=X_train.T\n",
    "X_test=X_test.T"
   ]
  },
  {
   "cell_type": "code",
   "execution_count": 251,
   "metadata": {},
   "outputs": [
    {
     "data": {
      "text/plain": [
       "((784, 11400), (784, 2851), (2, 11400), (2, 2851))"
      ]
     },
     "execution_count": 251,
     "metadata": {},
     "output_type": "execute_result"
    }
   ],
   "source": [
    "X_train.shape,X_test.shape,Y_train.shape,Y_test.shape"
   ]
  },
  {
   "cell_type": "code",
   "execution_count": 252,
   "metadata": {},
   "outputs": [],
   "source": [
    "#hyperparameters\n",
    "epoch = 10\n",
    "learning_rate = 0.01"
   ]
  },
  {
   "cell_type": "code",
   "execution_count": 253,
   "metadata": {},
   "outputs": [],
   "source": [
    "def sigmoid(z,derative = False):\n",
    "    if derative:\n",
    "        return z*(1-z)\n",
    "    return 1.0/(1.0+np.exp(-z))"
   ]
  },
  {
   "cell_type": "code",
   "execution_count": 254,
   "metadata": {},
   "outputs": [],
   "source": [
    "def softmax(z,derative = False):\n",
    "    if derative:\n",
    "        return 1\n",
    "    return np.exp(z)/np.sum(np.exp(z),axis=0)"
   ]
  },
  {
   "cell_type": "code",
   "execution_count": 255,
   "metadata": {},
   "outputs": [],
   "source": [
    "def compute_multiclass_loss(Y, Y_hat):\n",
    "    L_sum = np.sum(np.multiply(Y, np.log(Y_hat)))\n",
    "    m = Y.shape[1]\n",
    "    return -(1/m) * L_sum"
   ]
  },
  {
   "cell_type": "code",
   "execution_count": 256,
   "metadata": {},
   "outputs": [],
   "source": [
    "def init_weights(n_hidden_layers, number_of_neurons):\n",
    "    weights_layers =[np.random.uniform(size=(number_of_neurons[0],X_train.shape[0]))]\n",
    "    bias_layers = [np.random.uniform(size=(number_of_neurons[0],1))]\n",
    "    \n",
    "    for i in range(1,n_hidden_layers):\n",
    "        weights_layers.append(np.random.uniform(size=(number_of_neurons[i],weights_layers[i-1].shape[0])))\n",
    "        bias_layers.append(np.random.uniform(size=(number_of_neurons[i],1)))\n",
    "    \n",
    "    weights_layers.append(np.random.uniform(size=(n_classes,weights_layers[-1].shape[0])))\n",
    "    bias_layers.append(np.random.uniform(size=(n_classes,1)))\n",
    "    \n",
    "    return weights_layers,bias_layers"
   ]
  },
  {
   "cell_type": "code",
   "execution_count": 257,
   "metadata": {},
   "outputs": [],
   "source": [
    "weight_layers,bias_layers = init_weights(2,[100,50])"
   ]
  },
  {
   "cell_type": "code",
   "execution_count": 258,
   "metadata": {},
   "outputs": [
    {
     "name": "stdout",
     "output_type": "stream",
     "text": [
      "(100, 784) (100, 1)\n",
      "(50, 100) (50, 1)\n",
      "(2, 50) (2, 1)\n"
     ]
    }
   ],
   "source": [
    "for i,j in zip(weight_layers,bias_layers):\n",
    "    print(i.shape,j.shape)"
   ]
  },
  {
   "cell_type": "code",
   "execution_count": 307,
   "metadata": {},
   "outputs": [],
   "source": [
    "def train_neural_network(X_train,Y_train,epoch,learning_rate,hidden_layer_activation=sigmoid):\n",
    "    global weight_layers\n",
    "    global bias_layers\n",
    "    \n",
    "    cost=[]\n",
    "    number_of_samples = X_train.shape[1]\n",
    "    \n",
    "    #------epoch start here----------\n",
    "    \n",
    "#     layer_outputs = []\n",
    "#     layer_outputs_drev = []\n",
    "#     delta_weights=[]\n",
    "#     delta_bias=[]\n",
    "#     last_layer_output = X_train\n",
    "\n",
    "#     last_layer_output = X_train\n",
    "    input_layers = [X_train]\n",
    "    output_layers=[X_train]\n",
    "    \n",
    "    delta_weights = []\n",
    "    delta_bais = []\n",
    "    \n",
    "    \n",
    "    for weight,bais in zip(weight_layers[:-1],bais_layers[:-1]):\n",
    "        input_layers.append(np.dot(weight,output_layers[-1])+bais.T)\n",
    "        output_layers.append(hidden_layer_activation(input_layers[-1]))\n",
    "    \n",
    "    \n",
    "    \n",
    "    input_layers.append(np.dot(weight_layers[-1],output_layers[-1])+bias_layers[-1])\n",
    "    output_layers.append(softmax(input_layers[-1]))\n",
    "    \n",
    "    cost.append(compute_multiclass_loss(Y_train,output_layers[-1]))\n",
    "    print(cost)\n",
    "        \n",
    "    #------Output layer error --------\n",
    "    error = output_layers[-1] - Y_train\n",
    "    \n",
    "    delta_weights.append((1./number_of_samples)*np.dot(error,output_layers[-2].T))\n",
    "    delta_bais.append((1./number_of_samples)*np.sum(error, axis=1, keepdims=True))\n",
    "                      \n",
    "    #-----hidden layer stuff\n",
    "    \n",
    "    for i in range(len(input_layers)-1)[::-1]:\n",
    "        print(i)\n",
    "        error = np.dot(weight_layers[i].T,error)\n",
    "#         print(error.shape,hidden_layer_activation(input_layers[i],derative=True).shape)\n",
    "        delta_z = error*hidden_layer_activation(input_layers[i],derative=True)\n",
    "        delta_weights.insert(0,(1./m)*np.dot(delta_z,output_layers[i-1].T))\n",
    "        delta_bais.insert(0,(1./m)*np.sum(error,axis=1,keepdims=True))\n",
    "    \n",
    "    print(len(delta_weights))\n",
    "        \n",
    "        \n",
    "        \n",
    "#         layer_outputs.append(hidden_layer_activation(np.dot(last_layer_output,weight)+bias))\n",
    "#         layer_outputs_drev.append(hidden_layer_activation(np.dot(last_layer_output,weight)+bias,derative=True))\n",
    "#         last_layer_output=layer_outputs[-1]\n",
    "\n",
    "#     layer_outputs.append(softmax(np.dot(last_layer_output,weight_layers[-1])+bias_layers[-1]))\n",
    "    \n",
    "#     cost.append(compute_multiclass_loss(Y_train,layer_outputs[-1]))\n",
    "    \n",
    "#     error = layer_outputs[-1] - Y_train\n",
    "    \n",
    "#     print(error.shape, layer_outputs[-2].shape)\n",
    "#     delta_weights.insert(0,(1./number_of_samples)*np.dot(error.T,layer_outputs[-2]))\n",
    "# #     delta_bias.insert(0,(1./number_of_samples)*np.sum(error,axis=1,keepdims=True))\n",
    "    "
   ]
  },
  {
   "cell_type": "code",
   "execution_count": 308,
   "metadata": {},
   "outputs": [
    {
     "name": "stdout",
     "output_type": "stream",
     "text": [
      "[2.2662437633820476]\n",
      "2\n"
     ]
    },
    {
     "ename": "IndexError",
     "evalue": "list index out of range",
     "output_type": "error",
     "traceback": [
      "\u001b[0;31m---------------------------------------------------------------------------\u001b[0m",
      "\u001b[0;31mIndexError\u001b[0m                                Traceback (most recent call last)",
      "\u001b[0;32m<ipython-input-308-68638fcfa3e7>\u001b[0m in \u001b[0;36m<module>\u001b[0;34m()\u001b[0m\n\u001b[0;32m----> 1\u001b[0;31m \u001b[0mtrain_neural_network\u001b[0m\u001b[0;34m(\u001b[0m\u001b[0mX_train\u001b[0m\u001b[0;34m,\u001b[0m\u001b[0mY_train\u001b[0m\u001b[0;34m,\u001b[0m\u001b[0mepoch\u001b[0m\u001b[0;34m,\u001b[0m\u001b[0mlearning_rate\u001b[0m\u001b[0;34m)\u001b[0m\u001b[0;34m\u001b[0m\u001b[0m\n\u001b[0m",
      "\u001b[0;32m<ipython-input-307-6930334fd2e2>\u001b[0m in \u001b[0;36mtrain_neural_network\u001b[0;34m(X_train, Y_train, epoch, learning_rate, hidden_layer_activation)\u001b[0m\n\u001b[1;32m     44\u001b[0m     \u001b[0;32mfor\u001b[0m \u001b[0mi\u001b[0m \u001b[0;32min\u001b[0m \u001b[0mrange\u001b[0m\u001b[0;34m(\u001b[0m\u001b[0mlen\u001b[0m\u001b[0;34m(\u001b[0m\u001b[0minput_layers\u001b[0m\u001b[0;34m)\u001b[0m\u001b[0;34m-\u001b[0m\u001b[0;36m1\u001b[0m\u001b[0;34m)\u001b[0m\u001b[0;34m[\u001b[0m\u001b[0;34m:\u001b[0m\u001b[0;34m:\u001b[0m\u001b[0;34m-\u001b[0m\u001b[0;36m1\u001b[0m\u001b[0;34m]\u001b[0m\u001b[0;34m:\u001b[0m\u001b[0;34m\u001b[0m\u001b[0m\n\u001b[1;32m     45\u001b[0m         \u001b[0mprint\u001b[0m\u001b[0;34m(\u001b[0m\u001b[0mi\u001b[0m\u001b[0;34m)\u001b[0m\u001b[0;34m\u001b[0m\u001b[0m\n\u001b[0;32m---> 46\u001b[0;31m         \u001b[0merror\u001b[0m \u001b[0;34m=\u001b[0m \u001b[0mnp\u001b[0m\u001b[0;34m.\u001b[0m\u001b[0mdot\u001b[0m\u001b[0;34m(\u001b[0m\u001b[0mweight_layers\u001b[0m\u001b[0;34m[\u001b[0m\u001b[0mi\u001b[0m\u001b[0;34m+\u001b[0m\u001b[0;36m1\u001b[0m\u001b[0;34m]\u001b[0m\u001b[0;34m.\u001b[0m\u001b[0mT\u001b[0m\u001b[0;34m,\u001b[0m\u001b[0merror\u001b[0m\u001b[0;34m)\u001b[0m\u001b[0;34m\u001b[0m\u001b[0m\n\u001b[0m\u001b[1;32m     47\u001b[0m         \u001b[0mprint\u001b[0m\u001b[0;34m(\u001b[0m\u001b[0merror\u001b[0m\u001b[0;34m.\u001b[0m\u001b[0mshape\u001b[0m\u001b[0;34m,\u001b[0m\u001b[0mhidden_layer_activation\u001b[0m\u001b[0;34m(\u001b[0m\u001b[0minput_layers\u001b[0m\u001b[0;34m[\u001b[0m\u001b[0mi\u001b[0m\u001b[0;34m]\u001b[0m\u001b[0;34m,\u001b[0m\u001b[0mderative\u001b[0m\u001b[0;34m=\u001b[0m\u001b[0;32mTrue\u001b[0m\u001b[0;34m)\u001b[0m\u001b[0;34m.\u001b[0m\u001b[0mshape\u001b[0m\u001b[0;34m)\u001b[0m\u001b[0;34m\u001b[0m\u001b[0m\n\u001b[1;32m     48\u001b[0m         \u001b[0mdelta_z\u001b[0m \u001b[0;34m=\u001b[0m \u001b[0merror\u001b[0m\u001b[0;34m*\u001b[0m\u001b[0mhidden_layer_activation\u001b[0m\u001b[0;34m(\u001b[0m\u001b[0minput_layers\u001b[0m\u001b[0;34m[\u001b[0m\u001b[0mi\u001b[0m\u001b[0;34m+\u001b[0m\u001b[0;36m1\u001b[0m\u001b[0;34m]\u001b[0m\u001b[0;34m,\u001b[0m\u001b[0mderative\u001b[0m\u001b[0;34m=\u001b[0m\u001b[0;32mTrue\u001b[0m\u001b[0;34m)\u001b[0m\u001b[0;34m\u001b[0m\u001b[0m\n",
      "\u001b[0;31mIndexError\u001b[0m: list index out of range"
     ]
    }
   ],
   "source": [
    "train_neural_network(X_train,Y_train,epoch,learning_rate)"
   ]
  },
  {
   "cell_type": "code",
   "execution_count": 118,
   "metadata": {},
   "outputs": [],
   "source": [
    "a = [1,2,3,4,5]"
   ]
  },
  {
   "cell_type": "code",
   "execution_count": 311,
   "metadata": {},
   "outputs": [
    {
     "name": "stdout",
     "output_type": "stream",
     "text": [
      "2\n",
      "1\n"
     ]
    }
   ],
   "source": [
    "for i in range(3)[:0:-1]:\n",
    "    print(i)"
   ]
  },
  {
   "cell_type": "code",
   "execution_count": null,
   "metadata": {},
   "outputs": [],
   "source": []
  }
 ],
 "metadata": {
  "kernelspec": {
   "display_name": "Python (ml_ass)",
   "language": "python",
   "name": "ml_ass"
  },
  "language_info": {
   "codemirror_mode": {
    "name": "ipython",
    "version": 3
   },
   "file_extension": ".py",
   "mimetype": "text/x-python",
   "name": "python",
   "nbconvert_exporter": "python",
   "pygments_lexer": "ipython3",
   "version": "3.6.6"
  }
 },
 "nbformat": 4,
 "nbformat_minor": 2
}
