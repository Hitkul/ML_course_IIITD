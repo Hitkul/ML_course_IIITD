{
 "cells": [
  {
   "cell_type": "code",
   "execution_count": 16,
   "metadata": {},
   "outputs": [],
   "source": [
    "import h5py\n",
    "from sklearn.model_selection import train_test_split\n",
    "import numpy as np"
   ]
  },
  {
   "cell_type": "code",
   "execution_count": 17,
   "metadata": {},
   "outputs": [],
   "source": [
    "data = h5py.File('data/Q1/MNIST_Subset.h5','r+')\n",
    "X=data['X'][:]\n",
    "Y=data['Y'][:]"
   ]
  },
  {
   "cell_type": "code",
   "execution_count": 18,
   "metadata": {},
   "outputs": [
    {
     "data": {
      "text/plain": [
       "((14251, 28, 28), (14251,))"
      ]
     },
     "execution_count": 18,
     "metadata": {},
     "output_type": "execute_result"
    }
   ],
   "source": [
    "X.shape,Y.shape"
   ]
  },
  {
   "cell_type": "code",
   "execution_count": 19,
   "metadata": {},
   "outputs": [],
   "source": [
    "X = X.reshape(X.shape[0],-1)"
   ]
  },
  {
   "cell_type": "code",
   "execution_count": 20,
   "metadata": {},
   "outputs": [],
   "source": [
    "X=X/255"
   ]
  },
  {
   "cell_type": "code",
   "execution_count": 21,
   "metadata": {},
   "outputs": [
    {
     "data": {
      "text/plain": [
       "array([7, 9], dtype=uint8)"
      ]
     },
     "execution_count": 21,
     "metadata": {},
     "output_type": "execute_result"
    }
   ],
   "source": [
    "np.unique(Y)"
   ]
  },
  {
   "cell_type": "code",
   "execution_count": 22,
   "metadata": {},
   "outputs": [],
   "source": [
    "#as we only have 2 classes\n",
    "Y = np.where(Y==7,0,1)"
   ]
  },
  {
   "cell_type": "code",
   "execution_count": 23,
   "metadata": {},
   "outputs": [],
   "source": [
    "def one_hot_encoding(Y):\n",
    "    n_classes = len(np.unique(Y))\n",
    "    targets = Y.reshape(-1)\n",
    "    return np.eye(n_classes)[targets],n_classes"
   ]
  },
  {
   "cell_type": "code",
   "execution_count": 24,
   "metadata": {},
   "outputs": [],
   "source": [
    "Y,n_classes = one_hot_encoding(Y)"
   ]
  },
  {
   "cell_type": "code",
   "execution_count": 25,
   "metadata": {},
   "outputs": [],
   "source": [
    "X_train,X_test,Y_train,Y_test = train_test_split(X,Y,test_size=0.2, random_state=42)"
   ]
  },
  {
   "cell_type": "code",
   "execution_count": 26,
   "metadata": {},
   "outputs": [
    {
     "data": {
      "text/plain": [
       "((11400, 784), (2851, 784), (11400, 2), (2851, 2))"
      ]
     },
     "execution_count": 26,
     "metadata": {},
     "output_type": "execute_result"
    }
   ],
   "source": [
    "X_train.shape,X_test.shape,Y_train.shape,Y_test.shape"
   ]
  },
  {
   "cell_type": "code",
   "execution_count": 27,
   "metadata": {},
   "outputs": [],
   "source": [
    "#hyperparameters\n",
    "epoch = 10\n",
    "learning_rate = 0.01"
   ]
  },
  {
   "cell_type": "code",
   "execution_count": 28,
   "metadata": {},
   "outputs": [],
   "source": [
    "def sigmoid(z,derative = False):\n",
    "    if derative:\n",
    "        return z*(1-z)\n",
    "    return 1.0/(1.0+np.exp(-z))"
   ]
  },
  {
   "cell_type": "code",
   "execution_count": 31,
   "metadata": {},
   "outputs": [],
   "source": [
    "def init_weights(n_hidden_layers, number_of_neurons):\n",
    "    weights_layers =[np.random.uniform(size=(X_train.shape[1],number_of_neurons[0]))]\n",
    "    bais_layers = [np.random.uniform(size=(1,number_of_neurons[0]))]\n",
    "    \n",
    "    for i in range(1,n_hidden_layers):\n",
    "        weights_layers.append(np.random.uniform(size=(weights_layers[i-1].shape[1],number_of_neurons[i])))\n",
    "        bais_layers.append(np.random.uniform(size=(1,number_of_neurons[i])))\n",
    "    \n",
    "    weights_layers.append(np.random.uniform(size=(weights_layers[-1].shape[1],n_classes)))\n",
    "    bais_layers.append(np.random.uniform(size=(1,n_classes)))\n",
    "    \n",
    "    return weights_layers,bais_layers"
   ]
  },
  {
   "cell_type": "code",
   "execution_count": 32,
   "metadata": {},
   "outputs": [],
   "source": [
    "weight_layers,bais_layers = init_weights(2,[100,50])"
   ]
  },
  {
   "cell_type": "code",
   "execution_count": 33,
   "metadata": {},
   "outputs": [
    {
     "name": "stdout",
     "output_type": "stream",
     "text": [
      "(784, 100) (1, 100)\n",
      "(100, 50) (1, 50)\n",
      "(50, 2) (1, 2)\n"
     ]
    }
   ],
   "source": [
    "for i,j in zip(weight_layers,bais_layers):\n",
    "    print(i.shape,j.shape)"
   ]
  },
  {
   "cell_type": "code",
   "execution_count": null,
   "metadata": {},
   "outputs": [],
   "source": [
    "def train_neural_network(X_train,Y_train,epoch,learning_rate):\n",
    "    global weight_layers\n",
    "    global bais_layers\n",
    "    layer_outputs = []\n",
    "    last_layer_output = X_train\n",
    "    \n",
    "    for i in range(len(weight_layers)):\n",
    "        layer_input = np.dot\n",
    "    "
   ]
  }
 ],
 "metadata": {
  "kernelspec": {
   "display_name": "Python (ml_ass)",
   "language": "python",
   "name": "ml_ass"
  },
  "language_info": {
   "codemirror_mode": {
    "name": "ipython",
    "version": 3
   },
   "file_extension": ".py",
   "mimetype": "text/x-python",
   "name": "python",
   "nbconvert_exporter": "python",
   "pygments_lexer": "ipython3",
   "version": "3.6.6"
  }
 },
 "nbformat": 4,
 "nbformat_minor": 2
}
