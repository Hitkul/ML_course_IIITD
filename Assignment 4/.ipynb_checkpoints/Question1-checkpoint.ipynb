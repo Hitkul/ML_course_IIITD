{
 "cells": [
  {
   "cell_type": "code",
   "execution_count": 38,
   "metadata": {},
   "outputs": [],
   "source": [
    "import pandas as pd\n",
    "from sklearn.tree import DecisionTreeClassifier\n",
    "from sklearn.ensemble import RandomForestClassifier\n",
    "from sklearn.model_selection import GridSearchCV, learning_curve, train_test_split,KFold\n",
    "from sklearn.metrics import accuracy_score\n",
    "%matplotlib inline\n",
    "import matplotlib.pyplot as plt\n",
    "from sklearn.externals import joblib"
   ]
  },
  {
   "cell_type": "code",
   "execution_count": 2,
   "metadata": {},
   "outputs": [],
   "source": [
    "def get_X_and_Y(filename):\n",
    "    data = pd.read_csv(filename)\n",
    "    dataX = data.drop(columns=['Creditability']).values\n",
    "    dataY = data['Creditability'].values\n",
    "    return dataX,dataY"
   ]
  },
  {
   "cell_type": "code",
   "execution_count": 3,
   "metadata": {},
   "outputs": [],
   "source": [
    "# trainX,trainY = get_X_and_Y('data/train.csv')\n",
    "# testX,testY = get_X_and_Y('data/test.csv')\n",
    "X,Y = get_X_and_Y('data/full_data.csv')"
   ]
  },
  {
   "cell_type": "code",
   "execution_count": 4,
   "metadata": {},
   "outputs": [],
   "source": [
    "trainX, testX, trainY, testY = train_test_split(X, Y, test_size=0.20, random_state=42)"
   ]
  },
  {
   "cell_type": "code",
   "execution_count": 5,
   "metadata": {},
   "outputs": [
    {
     "data": {
      "text/plain": [
       "((800, 20), (800,), (200, 20), (200,))"
      ]
     },
     "execution_count": 5,
     "metadata": {},
     "output_type": "execute_result"
    }
   ],
   "source": [
    "trainX.shape,trainY.shape,testX.shape,testY.shape"
   ]
  },
  {
   "cell_type": "code",
   "execution_count": 6,
   "metadata": {},
   "outputs": [],
   "source": [
    "parameter_decision_tree = {\n",
    "    'criterion':('gini','entropy'),\n",
    "    'splitter':('best','random'),\n",
    "    'max_depth':(2,5,10,20)\n",
    "}"
   ]
  },
  {
   "cell_type": "code",
   "execution_count": 7,
   "metadata": {},
   "outputs": [],
   "source": [
    "parameter_random_forest = {\n",
    "    'criterion':('gini','entropy'),\n",
    "    'max_depth':(2,5,10,20),\n",
    "    'n_estimators':(10,100,200)\n",
    "}"
   ]
  },
  {
   "cell_type": "code",
   "execution_count": 9,
   "metadata": {},
   "outputs": [],
   "source": [
    "rf_clf = GridSearchCV(RandomForestClassifier(n_jobs=-1), parameter_random_forest, cv=10,verbose=2) \n",
    "dt_clf = GridSearchCV(DecisionTreeClassifier(), parameter_decision_tree, cv=10,verbose=2) "
   ]
  },
  {
   "cell_type": "code",
   "execution_count": 10,
   "metadata": {},
   "outputs": [
    {
     "name": "stdout",
     "output_type": "stream",
     "text": [
      "Fitting 10 folds for each of 24 candidates, totalling 240 fits\n",
      "[CV] criterion=gini, max_depth=2, n_estimators=10 ....................\n",
      "[CV] ..... criterion=gini, max_depth=2, n_estimators=10, total=   0.3s\n",
      "[CV] criterion=gini, max_depth=2, n_estimators=10 ....................\n"
     ]
    },
    {
     "name": "stderr",
     "output_type": "stream",
     "text": [
      "[Parallel(n_jobs=1)]: Done   1 out of   1 | elapsed:    0.4s remaining:    0.0s\n"
     ]
    },
    {
     "name": "stdout",
     "output_type": "stream",
     "text": [
      "[CV] ..... criterion=gini, max_depth=2, n_estimators=10, total=   0.3s\n",
      "[CV] criterion=gini, max_depth=2, n_estimators=10 ....................\n",
      "[CV] ..... criterion=gini, max_depth=2, n_estimators=10, total=   0.3s\n",
      "[CV] criterion=gini, max_depth=2, n_estimators=10 ....................\n",
      "[CV] ..... criterion=gini, max_depth=2, n_estimators=10, total=   0.2s\n",
      "[CV] criterion=gini, max_depth=2, n_estimators=10 ....................\n",
      "[CV] ..... criterion=gini, max_depth=2, n_estimators=10, total=   0.2s\n",
      "[CV] criterion=gini, max_depth=2, n_estimators=10 ....................\n",
      "[CV] ..... criterion=gini, max_depth=2, n_estimators=10, total=   0.2s\n",
      "[CV] criterion=gini, max_depth=2, n_estimators=10 ....................\n",
      "[CV] ..... criterion=gini, max_depth=2, n_estimators=10, total=   0.2s\n",
      "[CV] criterion=gini, max_depth=2, n_estimators=10 ....................\n",
      "[CV] ..... criterion=gini, max_depth=2, n_estimators=10, total=   0.3s\n",
      "[CV] criterion=gini, max_depth=2, n_estimators=10 ....................\n",
      "[CV] ..... criterion=gini, max_depth=2, n_estimators=10, total=   0.3s\n",
      "[CV] criterion=gini, max_depth=2, n_estimators=10 ....................\n",
      "[CV] ..... criterion=gini, max_depth=2, n_estimators=10, total=   0.2s\n",
      "[CV] criterion=gini, max_depth=2, n_estimators=100 ...................\n",
      "[CV] .... criterion=gini, max_depth=2, n_estimators=100, total=   0.4s\n",
      "[CV] criterion=gini, max_depth=2, n_estimators=100 ...................\n",
      "[CV] .... criterion=gini, max_depth=2, n_estimators=100, total=   0.4s\n",
      "[CV] criterion=gini, max_depth=2, n_estimators=100 ...................\n",
      "[CV] .... criterion=gini, max_depth=2, n_estimators=100, total=   0.3s\n",
      "[CV] criterion=gini, max_depth=2, n_estimators=100 ...................\n",
      "[CV] .... criterion=gini, max_depth=2, n_estimators=100, total=   0.4s\n",
      "[CV] criterion=gini, max_depth=2, n_estimators=100 ...................\n",
      "[CV] .... criterion=gini, max_depth=2, n_estimators=100, total=   0.3s\n",
      "[CV] criterion=gini, max_depth=2, n_estimators=100 ...................\n",
      "[CV] .... criterion=gini, max_depth=2, n_estimators=100, total=   0.3s\n",
      "[CV] criterion=gini, max_depth=2, n_estimators=100 ...................\n",
      "[CV] .... criterion=gini, max_depth=2, n_estimators=100, total=   0.4s\n",
      "[CV] criterion=gini, max_depth=2, n_estimators=100 ...................\n",
      "[CV] .... criterion=gini, max_depth=2, n_estimators=100, total=   0.4s\n",
      "[CV] criterion=gini, max_depth=2, n_estimators=100 ...................\n",
      "[CV] .... criterion=gini, max_depth=2, n_estimators=100, total=   0.4s\n",
      "[CV] criterion=gini, max_depth=2, n_estimators=100 ...................\n",
      "[CV] .... criterion=gini, max_depth=2, n_estimators=100, total=   0.3s\n",
      "[CV] criterion=gini, max_depth=2, n_estimators=200 ...................\n",
      "[CV] .... criterion=gini, max_depth=2, n_estimators=200, total=   0.7s\n",
      "[CV] criterion=gini, max_depth=2, n_estimators=200 ...................\n",
      "[CV] .... criterion=gini, max_depth=2, n_estimators=200, total=   0.6s\n",
      "[CV] criterion=gini, max_depth=2, n_estimators=200 ...................\n",
      "[CV] .... criterion=gini, max_depth=2, n_estimators=200, total=   0.6s\n",
      "[CV] criterion=gini, max_depth=2, n_estimators=200 ...................\n",
      "[CV] .... criterion=gini, max_depth=2, n_estimators=200, total=   0.5s\n",
      "[CV] criterion=gini, max_depth=2, n_estimators=200 ...................\n",
      "[CV] .... criterion=gini, max_depth=2, n_estimators=200, total=   0.7s\n",
      "[CV] criterion=gini, max_depth=2, n_estimators=200 ...................\n",
      "[CV] .... criterion=gini, max_depth=2, n_estimators=200, total=   0.5s\n",
      "[CV] criterion=gini, max_depth=2, n_estimators=200 ...................\n",
      "[CV] .... criterion=gini, max_depth=2, n_estimators=200, total=   0.6s\n",
      "[CV] criterion=gini, max_depth=2, n_estimators=200 ...................\n",
      "[CV] .... criterion=gini, max_depth=2, n_estimators=200, total=   1.0s\n",
      "[CV] criterion=gini, max_depth=2, n_estimators=200 ...................\n",
      "[CV] .... criterion=gini, max_depth=2, n_estimators=200, total=   0.9s\n",
      "[CV] criterion=gini, max_depth=2, n_estimators=200 ...................\n",
      "[CV] .... criterion=gini, max_depth=2, n_estimators=200, total=   0.8s\n",
      "[CV] criterion=gini, max_depth=5, n_estimators=10 ....................\n",
      "[CV] ..... criterion=gini, max_depth=5, n_estimators=10, total=   0.2s\n",
      "[CV] criterion=gini, max_depth=5, n_estimators=10 ....................\n",
      "[CV] ..... criterion=gini, max_depth=5, n_estimators=10, total=   0.2s\n",
      "[CV] criterion=gini, max_depth=5, n_estimators=10 ....................\n",
      "[CV] ..... criterion=gini, max_depth=5, n_estimators=10, total=   0.3s\n",
      "[CV] criterion=gini, max_depth=5, n_estimators=10 ....................\n",
      "[CV] ..... criterion=gini, max_depth=5, n_estimators=10, total=   0.3s\n",
      "[CV] criterion=gini, max_depth=5, n_estimators=10 ....................\n",
      "[CV] ..... criterion=gini, max_depth=5, n_estimators=10, total=   0.3s\n",
      "[CV] criterion=gini, max_depth=5, n_estimators=10 ....................\n",
      "[CV] ..... criterion=gini, max_depth=5, n_estimators=10, total=   0.3s\n",
      "[CV] criterion=gini, max_depth=5, n_estimators=10 ....................\n",
      "[CV] ..... criterion=gini, max_depth=5, n_estimators=10, total=   0.2s\n",
      "[CV] criterion=gini, max_depth=5, n_estimators=10 ....................\n",
      "[CV] ..... criterion=gini, max_depth=5, n_estimators=10, total=   0.3s\n",
      "[CV] criterion=gini, max_depth=5, n_estimators=10 ....................\n",
      "[CV] ..... criterion=gini, max_depth=5, n_estimators=10, total=   0.3s\n",
      "[CV] criterion=gini, max_depth=5, n_estimators=10 ....................\n",
      "[CV] ..... criterion=gini, max_depth=5, n_estimators=10, total=   0.3s\n",
      "[CV] criterion=gini, max_depth=5, n_estimators=100 ...................\n",
      "[CV] .... criterion=gini, max_depth=5, n_estimators=100, total=   0.4s\n",
      "[CV] criterion=gini, max_depth=5, n_estimators=100 ...................\n",
      "[CV] .... criterion=gini, max_depth=5, n_estimators=100, total=   0.3s\n",
      "[CV] criterion=gini, max_depth=5, n_estimators=100 ...................\n",
      "[CV] .... criterion=gini, max_depth=5, n_estimators=100, total=   0.5s\n",
      "[CV] criterion=gini, max_depth=5, n_estimators=100 ...................\n",
      "[CV] .... criterion=gini, max_depth=5, n_estimators=100, total=   0.5s\n",
      "[CV] criterion=gini, max_depth=5, n_estimators=100 ...................\n",
      "[CV] .... criterion=gini, max_depth=5, n_estimators=100, total=   0.3s\n",
      "[CV] criterion=gini, max_depth=5, n_estimators=100 ...................\n",
      "[CV] .... criterion=gini, max_depth=5, n_estimators=100, total=   0.4s\n",
      "[CV] criterion=gini, max_depth=5, n_estimators=100 ...................\n",
      "[CV] .... criterion=gini, max_depth=5, n_estimators=100, total=   0.3s\n",
      "[CV] criterion=gini, max_depth=5, n_estimators=100 ...................\n",
      "[CV] .... criterion=gini, max_depth=5, n_estimators=100, total=   0.3s\n",
      "[CV] criterion=gini, max_depth=5, n_estimators=100 ...................\n",
      "[CV] .... criterion=gini, max_depth=5, n_estimators=100, total=   0.4s\n",
      "[CV] criterion=gini, max_depth=5, n_estimators=100 ...................\n",
      "[CV] .... criterion=gini, max_depth=5, n_estimators=100, total=   0.4s\n",
      "[CV] criterion=gini, max_depth=5, n_estimators=200 ...................\n",
      "[CV] .... criterion=gini, max_depth=5, n_estimators=200, total=   0.5s\n",
      "[CV] criterion=gini, max_depth=5, n_estimators=200 ...................\n",
      "[CV] .... criterion=gini, max_depth=5, n_estimators=200, total=   0.8s\n",
      "[CV] criterion=gini, max_depth=5, n_estimators=200 ...................\n",
      "[CV] .... criterion=gini, max_depth=5, n_estimators=200, total=   0.7s\n",
      "[CV] criterion=gini, max_depth=5, n_estimators=200 ...................\n",
      "[CV] .... criterion=gini, max_depth=5, n_estimators=200, total=   0.9s\n",
      "[CV] criterion=gini, max_depth=5, n_estimators=200 ...................\n",
      "[CV] .... criterion=gini, max_depth=5, n_estimators=200, total=   0.6s\n",
      "[CV] criterion=gini, max_depth=5, n_estimators=200 ...................\n",
      "[CV] .... criterion=gini, max_depth=5, n_estimators=200, total=   0.8s\n",
      "[CV] criterion=gini, max_depth=5, n_estimators=200 ...................\n",
      "[CV] .... criterion=gini, max_depth=5, n_estimators=200, total=   0.6s\n",
      "[CV] criterion=gini, max_depth=5, n_estimators=200 ...................\n",
      "[CV] .... criterion=gini, max_depth=5, n_estimators=200, total=   0.8s\n",
      "[CV] criterion=gini, max_depth=5, n_estimators=200 ...................\n",
      "[CV] .... criterion=gini, max_depth=5, n_estimators=200, total=   0.9s\n",
      "[CV] criterion=gini, max_depth=5, n_estimators=200 ...................\n"
     ]
    },
    {
     "name": "stdout",
     "output_type": "stream",
     "text": [
      "[CV] .... criterion=gini, max_depth=5, n_estimators=200, total=   0.5s\n",
      "[CV] criterion=gini, max_depth=10, n_estimators=10 ...................\n",
      "[CV] .... criterion=gini, max_depth=10, n_estimators=10, total=   0.3s\n",
      "[CV] criterion=gini, max_depth=10, n_estimators=10 ...................\n",
      "[CV] .... criterion=gini, max_depth=10, n_estimators=10, total=   0.3s\n",
      "[CV] criterion=gini, max_depth=10, n_estimators=10 ...................\n",
      "[CV] .... criterion=gini, max_depth=10, n_estimators=10, total=   0.2s\n",
      "[CV] criterion=gini, max_depth=10, n_estimators=10 ...................\n",
      "[CV] .... criterion=gini, max_depth=10, n_estimators=10, total=   0.3s\n",
      "[CV] criterion=gini, max_depth=10, n_estimators=10 ...................\n",
      "[CV] .... criterion=gini, max_depth=10, n_estimators=10, total=   0.3s\n",
      "[CV] criterion=gini, max_depth=10, n_estimators=10 ...................\n",
      "[CV] .... criterion=gini, max_depth=10, n_estimators=10, total=   0.3s\n",
      "[CV] criterion=gini, max_depth=10, n_estimators=10 ...................\n",
      "[CV] .... criterion=gini, max_depth=10, n_estimators=10, total=   0.2s\n",
      "[CV] criterion=gini, max_depth=10, n_estimators=10 ...................\n",
      "[CV] .... criterion=gini, max_depth=10, n_estimators=10, total=   0.3s\n",
      "[CV] criterion=gini, max_depth=10, n_estimators=10 ...................\n",
      "[CV] .... criterion=gini, max_depth=10, n_estimators=10, total=   0.2s\n",
      "[CV] criterion=gini, max_depth=10, n_estimators=10 ...................\n",
      "[CV] .... criterion=gini, max_depth=10, n_estimators=10, total=   0.2s\n",
      "[CV] criterion=gini, max_depth=10, n_estimators=100 ..................\n",
      "[CV] ... criterion=gini, max_depth=10, n_estimators=100, total=   0.6s\n",
      "[CV] criterion=gini, max_depth=10, n_estimators=100 ..................\n",
      "[CV] ... criterion=gini, max_depth=10, n_estimators=100, total=   0.6s\n",
      "[CV] criterion=gini, max_depth=10, n_estimators=100 ..................\n",
      "[CV] ... criterion=gini, max_depth=10, n_estimators=100, total=   0.4s\n",
      "[CV] criterion=gini, max_depth=10, n_estimators=100 ..................\n",
      "[CV] ... criterion=gini, max_depth=10, n_estimators=100, total=   0.5s\n",
      "[CV] criterion=gini, max_depth=10, n_estimators=100 ..................\n",
      "[CV] ... criterion=gini, max_depth=10, n_estimators=100, total=   0.5s\n",
      "[CV] criterion=gini, max_depth=10, n_estimators=100 ..................\n",
      "[CV] ... criterion=gini, max_depth=10, n_estimators=100, total=   0.5s\n",
      "[CV] criterion=gini, max_depth=10, n_estimators=100 ..................\n",
      "[CV] ... criterion=gini, max_depth=10, n_estimators=100, total=   0.3s\n",
      "[CV] criterion=gini, max_depth=10, n_estimators=100 ..................\n",
      "[CV] ... criterion=gini, max_depth=10, n_estimators=100, total=   0.4s\n",
      "[CV] criterion=gini, max_depth=10, n_estimators=100 ..................\n",
      "[CV] ... criterion=gini, max_depth=10, n_estimators=100, total=   0.5s\n",
      "[CV] criterion=gini, max_depth=10, n_estimators=100 ..................\n",
      "[CV] ... criterion=gini, max_depth=10, n_estimators=100, total=   0.5s\n",
      "[CV] criterion=gini, max_depth=10, n_estimators=200 ..................\n",
      "[CV] ... criterion=gini, max_depth=10, n_estimators=200, total=   0.7s\n",
      "[CV] criterion=gini, max_depth=10, n_estimators=200 ..................\n",
      "[CV] ... criterion=gini, max_depth=10, n_estimators=200, total=   0.7s\n",
      "[CV] criterion=gini, max_depth=10, n_estimators=200 ..................\n",
      "[CV] ... criterion=gini, max_depth=10, n_estimators=200, total=   0.7s\n",
      "[CV] criterion=gini, max_depth=10, n_estimators=200 ..................\n",
      "[CV] ... criterion=gini, max_depth=10, n_estimators=200, total=   0.6s\n",
      "[CV] criterion=gini, max_depth=10, n_estimators=200 ..................\n",
      "[CV] ... criterion=gini, max_depth=10, n_estimators=200, total=   0.6s\n",
      "[CV] criterion=gini, max_depth=10, n_estimators=200 ..................\n",
      "[CV] ... criterion=gini, max_depth=10, n_estimators=200, total=   0.7s\n",
      "[CV] criterion=gini, max_depth=10, n_estimators=200 ..................\n",
      "[CV] ... criterion=gini, max_depth=10, n_estimators=200, total=   0.6s\n",
      "[CV] criterion=gini, max_depth=10, n_estimators=200 ..................\n",
      "[CV] ... criterion=gini, max_depth=10, n_estimators=200, total=   1.0s\n",
      "[CV] criterion=gini, max_depth=10, n_estimators=200 ..................\n",
      "[CV] ... criterion=gini, max_depth=10, n_estimators=200, total=   0.7s\n",
      "[CV] criterion=gini, max_depth=10, n_estimators=200 ..................\n",
      "[CV] ... criterion=gini, max_depth=10, n_estimators=200, total=   0.9s\n",
      "[CV] criterion=gini, max_depth=20, n_estimators=10 ...................\n",
      "[CV] .... criterion=gini, max_depth=20, n_estimators=10, total=   0.2s\n",
      "[CV] criterion=gini, max_depth=20, n_estimators=10 ...................\n",
      "[CV] .... criterion=gini, max_depth=20, n_estimators=10, total=   0.3s\n",
      "[CV] criterion=gini, max_depth=20, n_estimators=10 ...................\n",
      "[CV] .... criterion=gini, max_depth=20, n_estimators=10, total=   0.3s\n",
      "[CV] criterion=gini, max_depth=20, n_estimators=10 ...................\n",
      "[CV] .... criterion=gini, max_depth=20, n_estimators=10, total=   0.3s\n",
      "[CV] criterion=gini, max_depth=20, n_estimators=10 ...................\n",
      "[CV] .... criterion=gini, max_depth=20, n_estimators=10, total=   0.3s\n",
      "[CV] criterion=gini, max_depth=20, n_estimators=10 ...................\n",
      "[CV] .... criterion=gini, max_depth=20, n_estimators=10, total=   0.3s\n",
      "[CV] criterion=gini, max_depth=20, n_estimators=10 ...................\n",
      "[CV] .... criterion=gini, max_depth=20, n_estimators=10, total=   0.2s\n",
      "[CV] criterion=gini, max_depth=20, n_estimators=10 ...................\n",
      "[CV] .... criterion=gini, max_depth=20, n_estimators=10, total=   0.3s\n",
      "[CV] criterion=gini, max_depth=20, n_estimators=10 ...................\n",
      "[CV] .... criterion=gini, max_depth=20, n_estimators=10, total=   0.3s\n",
      "[CV] criterion=gini, max_depth=20, n_estimators=10 ...................\n",
      "[CV] .... criterion=gini, max_depth=20, n_estimators=10, total=   0.2s\n",
      "[CV] criterion=gini, max_depth=20, n_estimators=100 ..................\n",
      "[CV] ... criterion=gini, max_depth=20, n_estimators=100, total=   0.5s\n",
      "[CV] criterion=gini, max_depth=20, n_estimators=100 ..................\n",
      "[CV] ... criterion=gini, max_depth=20, n_estimators=100, total=   0.3s\n",
      "[CV] criterion=gini, max_depth=20, n_estimators=100 ..................\n",
      "[CV] ... criterion=gini, max_depth=20, n_estimators=100, total=   0.6s\n",
      "[CV] criterion=gini, max_depth=20, n_estimators=100 ..................\n",
      "[CV] ... criterion=gini, max_depth=20, n_estimators=100, total=   0.5s\n",
      "[CV] criterion=gini, max_depth=20, n_estimators=100 ..................\n",
      "[CV] ... criterion=gini, max_depth=20, n_estimators=100, total=   0.5s\n",
      "[CV] criterion=gini, max_depth=20, n_estimators=100 ..................\n",
      "[CV] ... criterion=gini, max_depth=20, n_estimators=100, total=   0.6s\n",
      "[CV] criterion=gini, max_depth=20, n_estimators=100 ..................\n",
      "[CV] ... criterion=gini, max_depth=20, n_estimators=100, total=   0.4s\n",
      "[CV] criterion=gini, max_depth=20, n_estimators=100 ..................\n",
      "[CV] ... criterion=gini, max_depth=20, n_estimators=100, total=   0.3s\n",
      "[CV] criterion=gini, max_depth=20, n_estimators=100 ..................\n",
      "[CV] ... criterion=gini, max_depth=20, n_estimators=100, total=   0.6s\n",
      "[CV] criterion=gini, max_depth=20, n_estimators=100 ..................\n",
      "[CV] ... criterion=gini, max_depth=20, n_estimators=100, total=   0.7s\n",
      "[CV] criterion=gini, max_depth=20, n_estimators=200 ..................\n",
      "[CV] ... criterion=gini, max_depth=20, n_estimators=200, total=   0.9s\n",
      "[CV] criterion=gini, max_depth=20, n_estimators=200 ..................\n",
      "[CV] ... criterion=gini, max_depth=20, n_estimators=200, total=   0.9s\n",
      "[CV] criterion=gini, max_depth=20, n_estimators=200 ..................\n",
      "[CV] ... criterion=gini, max_depth=20, n_estimators=200, total=   0.7s\n",
      "[CV] criterion=gini, max_depth=20, n_estimators=200 ..................\n",
      "[CV] ... criterion=gini, max_depth=20, n_estimators=200, total=   0.8s\n",
      "[CV] criterion=gini, max_depth=20, n_estimators=200 ..................\n",
      "[CV] ... criterion=gini, max_depth=20, n_estimators=200, total=   0.8s\n",
      "[CV] criterion=gini, max_depth=20, n_estimators=200 ..................\n",
      "[CV] ... criterion=gini, max_depth=20, n_estimators=200, total=   0.8s\n",
      "[CV] criterion=gini, max_depth=20, n_estimators=200 ..................\n",
      "[CV] ... criterion=gini, max_depth=20, n_estimators=200, total=   0.7s\n",
      "[CV] criterion=gini, max_depth=20, n_estimators=200 ..................\n"
     ]
    },
    {
     "name": "stdout",
     "output_type": "stream",
     "text": [
      "[CV] ... criterion=gini, max_depth=20, n_estimators=200, total=   0.7s\n",
      "[CV] criterion=gini, max_depth=20, n_estimators=200 ..................\n",
      "[CV] ... criterion=gini, max_depth=20, n_estimators=200, total=   0.8s\n",
      "[CV] criterion=gini, max_depth=20, n_estimators=200 ..................\n",
      "[CV] ... criterion=gini, max_depth=20, n_estimators=200, total=   0.7s\n",
      "[CV] criterion=entropy, max_depth=2, n_estimators=10 .................\n",
      "[CV] .. criterion=entropy, max_depth=2, n_estimators=10, total=   0.3s\n",
      "[CV] criterion=entropy, max_depth=2, n_estimators=10 .................\n",
      "[CV] .. criterion=entropy, max_depth=2, n_estimators=10, total=   0.3s\n",
      "[CV] criterion=entropy, max_depth=2, n_estimators=10 .................\n",
      "[CV] .. criterion=entropy, max_depth=2, n_estimators=10, total=   0.3s\n",
      "[CV] criterion=entropy, max_depth=2, n_estimators=10 .................\n",
      "[CV] .. criterion=entropy, max_depth=2, n_estimators=10, total=   0.3s\n",
      "[CV] criterion=entropy, max_depth=2, n_estimators=10 .................\n",
      "[CV] .. criterion=entropy, max_depth=2, n_estimators=10, total=   0.3s\n",
      "[CV] criterion=entropy, max_depth=2, n_estimators=10 .................\n",
      "[CV] .. criterion=entropy, max_depth=2, n_estimators=10, total=   0.3s\n",
      "[CV] criterion=entropy, max_depth=2, n_estimators=10 .................\n",
      "[CV] .. criterion=entropy, max_depth=2, n_estimators=10, total=   0.2s\n",
      "[CV] criterion=entropy, max_depth=2, n_estimators=10 .................\n",
      "[CV] .. criterion=entropy, max_depth=2, n_estimators=10, total=   0.3s\n",
      "[CV] criterion=entropy, max_depth=2, n_estimators=10 .................\n",
      "[CV] .. criterion=entropy, max_depth=2, n_estimators=10, total=   0.2s\n",
      "[CV] criterion=entropy, max_depth=2, n_estimators=10 .................\n",
      "[CV] .. criterion=entropy, max_depth=2, n_estimators=10, total=   0.3s\n",
      "[CV] criterion=entropy, max_depth=2, n_estimators=100 ................\n",
      "[CV] . criterion=entropy, max_depth=2, n_estimators=100, total=   0.4s\n",
      "[CV] criterion=entropy, max_depth=2, n_estimators=100 ................\n",
      "[CV] . criterion=entropy, max_depth=2, n_estimators=100, total=   0.4s\n",
      "[CV] criterion=entropy, max_depth=2, n_estimators=100 ................\n",
      "[CV] . criterion=entropy, max_depth=2, n_estimators=100, total=   0.5s\n",
      "[CV] criterion=entropy, max_depth=2, n_estimators=100 ................\n",
      "[CV] . criterion=entropy, max_depth=2, n_estimators=100, total=   0.3s\n",
      "[CV] criterion=entropy, max_depth=2, n_estimators=100 ................\n",
      "[CV] . criterion=entropy, max_depth=2, n_estimators=100, total=   0.3s\n",
      "[CV] criterion=entropy, max_depth=2, n_estimators=100 ................\n",
      "[CV] . criterion=entropy, max_depth=2, n_estimators=100, total=   0.3s\n",
      "[CV] criterion=entropy, max_depth=2, n_estimators=100 ................\n",
      "[CV] . criterion=entropy, max_depth=2, n_estimators=100, total=   0.3s\n",
      "[CV] criterion=entropy, max_depth=2, n_estimators=100 ................\n",
      "[CV] . criterion=entropy, max_depth=2, n_estimators=100, total=   0.3s\n",
      "[CV] criterion=entropy, max_depth=2, n_estimators=100 ................\n",
      "[CV] . criterion=entropy, max_depth=2, n_estimators=100, total=   0.3s\n",
      "[CV] criterion=entropy, max_depth=2, n_estimators=100 ................\n",
      "[CV] . criterion=entropy, max_depth=2, n_estimators=100, total=   0.3s\n",
      "[CV] criterion=entropy, max_depth=2, n_estimators=200 ................\n",
      "[CV] . criterion=entropy, max_depth=2, n_estimators=200, total=   0.5s\n",
      "[CV] criterion=entropy, max_depth=2, n_estimators=200 ................\n",
      "[CV] . criterion=entropy, max_depth=2, n_estimators=200, total=   0.6s\n",
      "[CV] criterion=entropy, max_depth=2, n_estimators=200 ................\n",
      "[CV] . criterion=entropy, max_depth=2, n_estimators=200, total=   0.5s\n",
      "[CV] criterion=entropy, max_depth=2, n_estimators=200 ................\n",
      "[CV] . criterion=entropy, max_depth=2, n_estimators=200, total=   0.6s\n",
      "[CV] criterion=entropy, max_depth=2, n_estimators=200 ................\n",
      "[CV] . criterion=entropy, max_depth=2, n_estimators=200, total=   0.5s\n",
      "[CV] criterion=entropy, max_depth=2, n_estimators=200 ................\n",
      "[CV] . criterion=entropy, max_depth=2, n_estimators=200, total=   0.5s\n",
      "[CV] criterion=entropy, max_depth=2, n_estimators=200 ................\n",
      "[CV] . criterion=entropy, max_depth=2, n_estimators=200, total=   0.5s\n",
      "[CV] criterion=entropy, max_depth=2, n_estimators=200 ................\n",
      "[CV] . criterion=entropy, max_depth=2, n_estimators=200, total=   0.5s\n",
      "[CV] criterion=entropy, max_depth=2, n_estimators=200 ................\n",
      "[CV] . criterion=entropy, max_depth=2, n_estimators=200, total=   0.5s\n",
      "[CV] criterion=entropy, max_depth=2, n_estimators=200 ................\n",
      "[CV] . criterion=entropy, max_depth=2, n_estimators=200, total=   0.7s\n",
      "[CV] criterion=entropy, max_depth=5, n_estimators=10 .................\n",
      "[CV] .. criterion=entropy, max_depth=5, n_estimators=10, total=   0.2s\n",
      "[CV] criterion=entropy, max_depth=5, n_estimators=10 .................\n",
      "[CV] .. criterion=entropy, max_depth=5, n_estimators=10, total=   0.2s\n",
      "[CV] criterion=entropy, max_depth=5, n_estimators=10 .................\n",
      "[CV] .. criterion=entropy, max_depth=5, n_estimators=10, total=   0.2s\n",
      "[CV] criterion=entropy, max_depth=5, n_estimators=10 .................\n",
      "[CV] .. criterion=entropy, max_depth=5, n_estimators=10, total=   0.2s\n",
      "[CV] criterion=entropy, max_depth=5, n_estimators=10 .................\n",
      "[CV] .. criterion=entropy, max_depth=5, n_estimators=10, total=   0.2s\n",
      "[CV] criterion=entropy, max_depth=5, n_estimators=10 .................\n",
      "[CV] .. criterion=entropy, max_depth=5, n_estimators=10, total=   0.2s\n",
      "[CV] criterion=entropy, max_depth=5, n_estimators=10 .................\n",
      "[CV] .. criterion=entropy, max_depth=5, n_estimators=10, total=   0.2s\n",
      "[CV] criterion=entropy, max_depth=5, n_estimators=10 .................\n",
      "[CV] .. criterion=entropy, max_depth=5, n_estimators=10, total=   0.3s\n",
      "[CV] criterion=entropy, max_depth=5, n_estimators=10 .................\n",
      "[CV] .. criterion=entropy, max_depth=5, n_estimators=10, total=   0.3s\n",
      "[CV] criterion=entropy, max_depth=5, n_estimators=10 .................\n",
      "[CV] .. criterion=entropy, max_depth=5, n_estimators=10, total=   0.3s\n",
      "[CV] criterion=entropy, max_depth=5, n_estimators=100 ................\n",
      "[CV] . criterion=entropy, max_depth=5, n_estimators=100, total=   0.3s\n",
      "[CV] criterion=entropy, max_depth=5, n_estimators=100 ................\n",
      "[CV] . criterion=entropy, max_depth=5, n_estimators=100, total=   0.3s\n",
      "[CV] criterion=entropy, max_depth=5, n_estimators=100 ................\n",
      "[CV] . criterion=entropy, max_depth=5, n_estimators=100, total=   0.4s\n",
      "[CV] criterion=entropy, max_depth=5, n_estimators=100 ................\n",
      "[CV] . criterion=entropy, max_depth=5, n_estimators=100, total=   0.5s\n",
      "[CV] criterion=entropy, max_depth=5, n_estimators=100 ................\n",
      "[CV] . criterion=entropy, max_depth=5, n_estimators=100, total=   0.4s\n",
      "[CV] criterion=entropy, max_depth=5, n_estimators=100 ................\n",
      "[CV] . criterion=entropy, max_depth=5, n_estimators=100, total=   0.5s\n",
      "[CV] criterion=entropy, max_depth=5, n_estimators=100 ................\n",
      "[CV] . criterion=entropy, max_depth=5, n_estimators=100, total=   0.4s\n",
      "[CV] criterion=entropy, max_depth=5, n_estimators=100 ................\n",
      "[CV] . criterion=entropy, max_depth=5, n_estimators=100, total=   0.3s\n",
      "[CV] criterion=entropy, max_depth=5, n_estimators=100 ................\n",
      "[CV] . criterion=entropy, max_depth=5, n_estimators=100, total=   0.3s\n",
      "[CV] criterion=entropy, max_depth=5, n_estimators=100 ................\n",
      "[CV] . criterion=entropy, max_depth=5, n_estimators=100, total=   0.3s\n",
      "[CV] criterion=entropy, max_depth=5, n_estimators=200 ................\n",
      "[CV] . criterion=entropy, max_depth=5, n_estimators=200, total=   0.5s\n",
      "[CV] criterion=entropy, max_depth=5, n_estimators=200 ................\n",
      "[CV] . criterion=entropy, max_depth=5, n_estimators=200, total=   0.6s\n",
      "[CV] criterion=entropy, max_depth=5, n_estimators=200 ................\n",
      "[CV] . criterion=entropy, max_depth=5, n_estimators=200, total=   0.6s\n",
      "[CV] criterion=entropy, max_depth=5, n_estimators=200 ................\n",
      "[CV] . criterion=entropy, max_depth=5, n_estimators=200, total=   0.8s\n",
      "[CV] criterion=entropy, max_depth=5, n_estimators=200 ................\n",
      "[CV] . criterion=entropy, max_depth=5, n_estimators=200, total=   0.7s\n",
      "[CV] criterion=entropy, max_depth=5, n_estimators=200 ................\n"
     ]
    },
    {
     "name": "stdout",
     "output_type": "stream",
     "text": [
      "[CV] . criterion=entropy, max_depth=5, n_estimators=200, total=   0.6s\n",
      "[CV] criterion=entropy, max_depth=5, n_estimators=200 ................\n",
      "[CV] . criterion=entropy, max_depth=5, n_estimators=200, total=   0.6s\n",
      "[CV] criterion=entropy, max_depth=5, n_estimators=200 ................\n",
      "[CV] . criterion=entropy, max_depth=5, n_estimators=200, total=   0.7s\n",
      "[CV] criterion=entropy, max_depth=5, n_estimators=200 ................\n",
      "[CV] . criterion=entropy, max_depth=5, n_estimators=200, total=   0.6s\n",
      "[CV] criterion=entropy, max_depth=5, n_estimators=200 ................\n",
      "[CV] . criterion=entropy, max_depth=5, n_estimators=200, total=   0.6s\n",
      "[CV] criterion=entropy, max_depth=10, n_estimators=10 ................\n",
      "[CV] . criterion=entropy, max_depth=10, n_estimators=10, total=   0.2s\n",
      "[CV] criterion=entropy, max_depth=10, n_estimators=10 ................\n",
      "[CV] . criterion=entropy, max_depth=10, n_estimators=10, total=   0.2s\n",
      "[CV] criterion=entropy, max_depth=10, n_estimators=10 ................\n",
      "[CV] . criterion=entropy, max_depth=10, n_estimators=10, total=   0.2s\n",
      "[CV] criterion=entropy, max_depth=10, n_estimators=10 ................\n",
      "[CV] . criterion=entropy, max_depth=10, n_estimators=10, total=   0.2s\n",
      "[CV] criterion=entropy, max_depth=10, n_estimators=10 ................\n",
      "[CV] . criterion=entropy, max_depth=10, n_estimators=10, total=   0.3s\n",
      "[CV] criterion=entropy, max_depth=10, n_estimators=10 ................\n",
      "[CV] . criterion=entropy, max_depth=10, n_estimators=10, total=   0.2s\n",
      "[CV] criterion=entropy, max_depth=10, n_estimators=10 ................\n",
      "[CV] . criterion=entropy, max_depth=10, n_estimators=10, total=   0.2s\n",
      "[CV] criterion=entropy, max_depth=10, n_estimators=10 ................\n",
      "[CV] . criterion=entropy, max_depth=10, n_estimators=10, total=   0.2s\n",
      "[CV] criterion=entropy, max_depth=10, n_estimators=10 ................\n",
      "[CV] . criterion=entropy, max_depth=10, n_estimators=10, total=   0.2s\n",
      "[CV] criterion=entropy, max_depth=10, n_estimators=10 ................\n",
      "[CV] . criterion=entropy, max_depth=10, n_estimators=10, total=   0.2s\n",
      "[CV] criterion=entropy, max_depth=10, n_estimators=100 ...............\n",
      "[CV]  criterion=entropy, max_depth=10, n_estimators=100, total=   0.3s\n",
      "[CV] criterion=entropy, max_depth=10, n_estimators=100 ...............\n",
      "[CV]  criterion=entropy, max_depth=10, n_estimators=100, total=   0.3s\n",
      "[CV] criterion=entropy, max_depth=10, n_estimators=100 ...............\n",
      "[CV]  criterion=entropy, max_depth=10, n_estimators=100, total=   0.3s\n",
      "[CV] criterion=entropy, max_depth=10, n_estimators=100 ...............\n",
      "[CV]  criterion=entropy, max_depth=10, n_estimators=100, total=   0.3s\n",
      "[CV] criterion=entropy, max_depth=10, n_estimators=100 ...............\n",
      "[CV]  criterion=entropy, max_depth=10, n_estimators=100, total=   0.3s\n",
      "[CV] criterion=entropy, max_depth=10, n_estimators=100 ...............\n",
      "[CV]  criterion=entropy, max_depth=10, n_estimators=100, total=   0.3s\n",
      "[CV] criterion=entropy, max_depth=10, n_estimators=100 ...............\n",
      "[CV]  criterion=entropy, max_depth=10, n_estimators=100, total=   0.3s\n",
      "[CV] criterion=entropy, max_depth=10, n_estimators=100 ...............\n",
      "[CV]  criterion=entropy, max_depth=10, n_estimators=100, total=   0.3s\n",
      "[CV] criterion=entropy, max_depth=10, n_estimators=100 ...............\n",
      "[CV]  criterion=entropy, max_depth=10, n_estimators=100, total=   0.3s\n",
      "[CV] criterion=entropy, max_depth=10, n_estimators=100 ...............\n",
      "[CV]  criterion=entropy, max_depth=10, n_estimators=100, total=   0.3s\n",
      "[CV] criterion=entropy, max_depth=10, n_estimators=200 ...............\n",
      "[CV]  criterion=entropy, max_depth=10, n_estimators=200, total=   0.5s\n",
      "[CV] criterion=entropy, max_depth=10, n_estimators=200 ...............\n",
      "[CV]  criterion=entropy, max_depth=10, n_estimators=200, total=   0.7s\n",
      "[CV] criterion=entropy, max_depth=10, n_estimators=200 ...............\n",
      "[CV]  criterion=entropy, max_depth=10, n_estimators=200, total=   0.6s\n",
      "[CV] criterion=entropy, max_depth=10, n_estimators=200 ...............\n",
      "[CV]  criterion=entropy, max_depth=10, n_estimators=200, total=   0.6s\n",
      "[CV] criterion=entropy, max_depth=10, n_estimators=200 ...............\n",
      "[CV]  criterion=entropy, max_depth=10, n_estimators=200, total=   0.6s\n",
      "[CV] criterion=entropy, max_depth=10, n_estimators=200 ...............\n",
      "[CV]  criterion=entropy, max_depth=10, n_estimators=200, total=   0.7s\n",
      "[CV] criterion=entropy, max_depth=10, n_estimators=200 ...............\n",
      "[CV]  criterion=entropy, max_depth=10, n_estimators=200, total=   0.6s\n",
      "[CV] criterion=entropy, max_depth=10, n_estimators=200 ...............\n",
      "[CV]  criterion=entropy, max_depth=10, n_estimators=200, total=   0.6s\n",
      "[CV] criterion=entropy, max_depth=10, n_estimators=200 ...............\n",
      "[CV]  criterion=entropy, max_depth=10, n_estimators=200, total=   0.6s\n",
      "[CV] criterion=entropy, max_depth=10, n_estimators=200 ...............\n",
      "[CV]  criterion=entropy, max_depth=10, n_estimators=200, total=   0.8s\n",
      "[CV] criterion=entropy, max_depth=20, n_estimators=10 ................\n",
      "[CV] . criterion=entropy, max_depth=20, n_estimators=10, total=   0.3s\n",
      "[CV] criterion=entropy, max_depth=20, n_estimators=10 ................\n",
      "[CV] . criterion=entropy, max_depth=20, n_estimators=10, total=   0.3s\n",
      "[CV] criterion=entropy, max_depth=20, n_estimators=10 ................\n",
      "[CV] . criterion=entropy, max_depth=20, n_estimators=10, total=   0.3s\n",
      "[CV] criterion=entropy, max_depth=20, n_estimators=10 ................\n",
      "[CV] . criterion=entropy, max_depth=20, n_estimators=10, total=   0.3s\n",
      "[CV] criterion=entropy, max_depth=20, n_estimators=10 ................\n",
      "[CV] . criterion=entropy, max_depth=20, n_estimators=10, total=   0.3s\n",
      "[CV] criterion=entropy, max_depth=20, n_estimators=10 ................\n",
      "[CV] . criterion=entropy, max_depth=20, n_estimators=10, total=   0.3s\n",
      "[CV] criterion=entropy, max_depth=20, n_estimators=10 ................\n",
      "[CV] . criterion=entropy, max_depth=20, n_estimators=10, total=   0.3s\n",
      "[CV] criterion=entropy, max_depth=20, n_estimators=10 ................\n",
      "[CV] . criterion=entropy, max_depth=20, n_estimators=10, total=   0.2s\n",
      "[CV] criterion=entropy, max_depth=20, n_estimators=10 ................\n",
      "[CV] . criterion=entropy, max_depth=20, n_estimators=10, total=   0.3s\n",
      "[CV] criterion=entropy, max_depth=20, n_estimators=10 ................\n",
      "[CV] . criterion=entropy, max_depth=20, n_estimators=10, total=   0.2s\n",
      "[CV] criterion=entropy, max_depth=20, n_estimators=100 ...............\n",
      "[CV]  criterion=entropy, max_depth=20, n_estimators=100, total=   0.3s\n",
      "[CV] criterion=entropy, max_depth=20, n_estimators=100 ...............\n",
      "[CV]  criterion=entropy, max_depth=20, n_estimators=100, total=   0.5s\n",
      "[CV] criterion=entropy, max_depth=20, n_estimators=100 ...............\n",
      "[CV]  criterion=entropy, max_depth=20, n_estimators=100, total=   0.4s\n",
      "[CV] criterion=entropy, max_depth=20, n_estimators=100 ...............\n",
      "[CV]  criterion=entropy, max_depth=20, n_estimators=100, total=   0.3s\n",
      "[CV] criterion=entropy, max_depth=20, n_estimators=100 ...............\n",
      "[CV]  criterion=entropy, max_depth=20, n_estimators=100, total=   0.3s\n",
      "[CV] criterion=entropy, max_depth=20, n_estimators=100 ...............\n",
      "[CV]  criterion=entropy, max_depth=20, n_estimators=100, total=   0.3s\n",
      "[CV] criterion=entropy, max_depth=20, n_estimators=100 ...............\n",
      "[CV]  criterion=entropy, max_depth=20, n_estimators=100, total=   0.4s\n",
      "[CV] criterion=entropy, max_depth=20, n_estimators=100 ...............\n",
      "[CV]  criterion=entropy, max_depth=20, n_estimators=100, total=   0.4s\n",
      "[CV] criterion=entropy, max_depth=20, n_estimators=100 ...............\n",
      "[CV]  criterion=entropy, max_depth=20, n_estimators=100, total=   0.3s\n",
      "[CV] criterion=entropy, max_depth=20, n_estimators=100 ...............\n",
      "[CV]  criterion=entropy, max_depth=20, n_estimators=100, total=   0.4s\n",
      "[CV] criterion=entropy, max_depth=20, n_estimators=200 ...............\n",
      "[CV]  criterion=entropy, max_depth=20, n_estimators=200, total=   0.7s\n",
      "[CV] criterion=entropy, max_depth=20, n_estimators=200 ...............\n",
      "[CV]  criterion=entropy, max_depth=20, n_estimators=200, total=   0.7s\n",
      "[CV] criterion=entropy, max_depth=20, n_estimators=200 ...............\n",
      "[CV]  criterion=entropy, max_depth=20, n_estimators=200, total=   0.5s\n",
      "[CV] criterion=entropy, max_depth=20, n_estimators=200 ...............\n"
     ]
    },
    {
     "name": "stdout",
     "output_type": "stream",
     "text": [
      "[CV]  criterion=entropy, max_depth=20, n_estimators=200, total=   0.8s\n",
      "[CV] criterion=entropy, max_depth=20, n_estimators=200 ...............\n",
      "[CV]  criterion=entropy, max_depth=20, n_estimators=200, total=   0.8s\n",
      "[CV] criterion=entropy, max_depth=20, n_estimators=200 ...............\n",
      "[CV]  criterion=entropy, max_depth=20, n_estimators=200, total=   0.6s\n",
      "[CV] criterion=entropy, max_depth=20, n_estimators=200 ...............\n",
      "[CV]  criterion=entropy, max_depth=20, n_estimators=200, total=   0.7s\n",
      "[CV] criterion=entropy, max_depth=20, n_estimators=200 ...............\n",
      "[CV]  criterion=entropy, max_depth=20, n_estimators=200, total=   0.9s\n",
      "[CV] criterion=entropy, max_depth=20, n_estimators=200 ...............\n",
      "[CV]  criterion=entropy, max_depth=20, n_estimators=200, total=   0.9s\n",
      "[CV] criterion=entropy, max_depth=20, n_estimators=200 ...............\n",
      "[CV]  criterion=entropy, max_depth=20, n_estimators=200, total=   0.8s\n"
     ]
    },
    {
     "name": "stderr",
     "output_type": "stream",
     "text": [
      "[Parallel(n_jobs=1)]: Done 240 out of 240 | elapsed:  2.3min finished\n"
     ]
    },
    {
     "data": {
      "text/plain": [
       "GridSearchCV(cv=10, error_score='raise',\n",
       "       estimator=RandomForestClassifier(bootstrap=True, class_weight=None, criterion='gini',\n",
       "            max_depth=None, max_features='auto', max_leaf_nodes=None,\n",
       "            min_impurity_decrease=0.0, min_impurity_split=None,\n",
       "            min_samples_leaf=1, min_samples_split=2,\n",
       "            min_weight_fraction_leaf=0.0, n_estimators=10, n_jobs=-1,\n",
       "            oob_score=False, random_state=None, verbose=0,\n",
       "            warm_start=False),\n",
       "       fit_params=None, iid=True, n_jobs=1,\n",
       "       param_grid={'criterion': ('gini', 'entropy'), 'max_depth': (2, 5, 10, 20), 'n_estimators': (10, 100, 200)},\n",
       "       pre_dispatch='2*n_jobs', refit=True, return_train_score='warn',\n",
       "       scoring=None, verbose=2)"
      ]
     },
     "execution_count": 10,
     "metadata": {},
     "output_type": "execute_result"
    }
   ],
   "source": [
    "rf_clf.fit(trainX,trainY)"
   ]
  },
  {
   "cell_type": "code",
   "execution_count": 11,
   "metadata": {},
   "outputs": [
    {
     "data": {
      "text/plain": [
       "{'criterion': 'gini', 'max_depth': 10, 'n_estimators': 200}"
      ]
     },
     "execution_count": 11,
     "metadata": {},
     "output_type": "execute_result"
    }
   ],
   "source": [
    "rf_clf.best_params_"
   ]
  },
  {
   "cell_type": "code",
   "execution_count": 12,
   "metadata": {},
   "outputs": [
    {
     "data": {
      "text/plain": [
       "0.98125"
      ]
     },
     "execution_count": 12,
     "metadata": {},
     "output_type": "execute_result"
    }
   ],
   "source": [
    "accuracy_score(trainY,rf_clf.predict(trainX)) "
   ]
  },
  {
   "cell_type": "code",
   "execution_count": 13,
   "metadata": {},
   "outputs": [
    {
     "data": {
      "text/plain": [
       "0.755"
      ]
     },
     "execution_count": 13,
     "metadata": {},
     "output_type": "execute_result"
    }
   ],
   "source": [
    "accuracy_score(testY,rf_clf.predict(testX)) "
   ]
  },
  {
   "cell_type": "code",
   "execution_count": 15,
   "metadata": {},
   "outputs": [
    {
     "name": "stdout",
     "output_type": "stream",
     "text": [
      "Fitting 10 folds for each of 16 candidates, totalling 160 fits\n",
      "[CV] criterion=gini, max_depth=2, splitter=best ......................\n",
      "[CV] ....... criterion=gini, max_depth=2, splitter=best, total=   0.0s\n",
      "[CV] criterion=gini, max_depth=2, splitter=best ......................\n",
      "[CV] ....... criterion=gini, max_depth=2, splitter=best, total=   0.0s\n",
      "[CV] criterion=gini, max_depth=2, splitter=best ......................\n",
      "[CV] ....... criterion=gini, max_depth=2, splitter=best, total=   0.0s\n",
      "[CV] criterion=gini, max_depth=2, splitter=best ......................\n",
      "[CV] ....... criterion=gini, max_depth=2, splitter=best, total=   0.0s\n",
      "[CV] criterion=gini, max_depth=2, splitter=best ......................\n",
      "[CV] ....... criterion=gini, max_depth=2, splitter=best, total=   0.0s\n",
      "[CV] criterion=gini, max_depth=2, splitter=best ......................\n",
      "[CV] ....... criterion=gini, max_depth=2, splitter=best, total=   0.0s\n",
      "[CV] criterion=gini, max_depth=2, splitter=best ......................\n",
      "[CV] ....... criterion=gini, max_depth=2, splitter=best, total=   0.0s\n",
      "[CV] criterion=gini, max_depth=2, splitter=best ......................\n",
      "[CV] ....... criterion=gini, max_depth=2, splitter=best, total=   0.0s\n",
      "[CV] criterion=gini, max_depth=2, splitter=best ......................\n",
      "[CV] ....... criterion=gini, max_depth=2, splitter=best, total=   0.0s\n",
      "[CV] criterion=gini, max_depth=2, splitter=best ......................\n",
      "[CV] ....... criterion=gini, max_depth=2, splitter=best, total=   0.0s\n",
      "[CV] criterion=gini, max_depth=2, splitter=random ....................\n",
      "[CV] ..... criterion=gini, max_depth=2, splitter=random, total=   0.0s\n",
      "[CV] criterion=gini, max_depth=2, splitter=random ....................\n",
      "[CV] ..... criterion=gini, max_depth=2, splitter=random, total=   0.0s\n",
      "[CV] criterion=gini, max_depth=2, splitter=random ....................\n",
      "[CV] ..... criterion=gini, max_depth=2, splitter=random, total=   0.0s\n",
      "[CV] criterion=gini, max_depth=2, splitter=random ....................\n",
      "[CV] ..... criterion=gini, max_depth=2, splitter=random, total=   0.0s\n",
      "[CV] criterion=gini, max_depth=2, splitter=random ....................\n",
      "[CV] ..... criterion=gini, max_depth=2, splitter=random, total=   0.0s\n",
      "[CV] criterion=gini, max_depth=2, splitter=random ....................\n",
      "[CV] ..... criterion=gini, max_depth=2, splitter=random, total=   0.0s\n",
      "[CV] criterion=gini, max_depth=2, splitter=random ....................\n",
      "[CV] ..... criterion=gini, max_depth=2, splitter=random, total=   0.0s\n",
      "[CV] criterion=gini, max_depth=2, splitter=random ....................\n",
      "[CV] ..... criterion=gini, max_depth=2, splitter=random, total=   0.0s\n",
      "[CV] criterion=gini, max_depth=2, splitter=random ....................\n",
      "[CV] ..... criterion=gini, max_depth=2, splitter=random, total=   0.0s\n",
      "[CV] criterion=gini, max_depth=2, splitter=random ....................\n",
      "[CV] ..... criterion=gini, max_depth=2, splitter=random, total=   0.0s\n",
      "[CV] criterion=gini, max_depth=5, splitter=best ......................\n",
      "[CV] ....... criterion=gini, max_depth=5, splitter=best, total=   0.0s\n",
      "[CV] criterion=gini, max_depth=5, splitter=best ......................\n",
      "[CV] ....... criterion=gini, max_depth=5, splitter=best, total=   0.0s\n",
      "[CV] criterion=gini, max_depth=5, splitter=best ......................\n",
      "[CV] ....... criterion=gini, max_depth=5, splitter=best, total=   0.0s\n",
      "[CV] criterion=gini, max_depth=5, splitter=best ......................\n",
      "[CV] ....... criterion=gini, max_depth=5, splitter=best, total=   0.0s\n",
      "[CV] criterion=gini, max_depth=5, splitter=best ......................\n",
      "[CV] ....... criterion=gini, max_depth=5, splitter=best, total=   0.0s\n",
      "[CV] criterion=gini, max_depth=5, splitter=best ......................\n",
      "[CV] ....... criterion=gini, max_depth=5, splitter=best, total=   0.0s\n",
      "[CV] criterion=gini, max_depth=5, splitter=best ......................\n",
      "[CV] ....... criterion=gini, max_depth=5, splitter=best, total=   0.0s\n",
      "[CV] criterion=gini, max_depth=5, splitter=best ......................\n",
      "[CV] ....... criterion=gini, max_depth=5, splitter=best, total=   0.0s\n",
      "[CV] criterion=gini, max_depth=5, splitter=best ......................\n",
      "[CV] ....... criterion=gini, max_depth=5, splitter=best, total=   0.0s\n",
      "[CV] criterion=gini, max_depth=5, splitter=best ......................\n",
      "[CV] ....... criterion=gini, max_depth=5, splitter=best, total=   0.0s\n",
      "[CV] criterion=gini, max_depth=5, splitter=random ....................\n",
      "[CV] ..... criterion=gini, max_depth=5, splitter=random, total=   0.0s\n",
      "[CV] criterion=gini, max_depth=5, splitter=random ....................\n",
      "[CV] ..... criterion=gini, max_depth=5, splitter=random, total=   0.0s\n",
      "[CV] criterion=gini, max_depth=5, splitter=random ....................\n",
      "[CV] ..... criterion=gini, max_depth=5, splitter=random, total=   0.0s\n",
      "[CV] criterion=gini, max_depth=5, splitter=random ....................\n",
      "[CV] ..... criterion=gini, max_depth=5, splitter=random, total=   0.0s\n",
      "[CV] criterion=gini, max_depth=5, splitter=random ....................\n",
      "[CV] ..... criterion=gini, max_depth=5, splitter=random, total=   0.0s\n",
      "[CV] criterion=gini, max_depth=5, splitter=random ....................\n",
      "[CV] ..... criterion=gini, max_depth=5, splitter=random, total=   0.0s\n",
      "[CV] criterion=gini, max_depth=5, splitter=random ....................\n",
      "[CV] ..... criterion=gini, max_depth=5, splitter=random, total=   0.0s\n",
      "[CV] criterion=gini, max_depth=5, splitter=random ....................\n",
      "[CV] ..... criterion=gini, max_depth=5, splitter=random, total=   0.0s\n",
      "[CV] criterion=gini, max_depth=5, splitter=random ....................\n",
      "[CV] ..... criterion=gini, max_depth=5, splitter=random, total=   0.0s\n",
      "[CV] criterion=gini, max_depth=5, splitter=random ....................\n",
      "[CV] ..... criterion=gini, max_depth=5, splitter=random, total=   0.0s\n",
      "[CV] criterion=gini, max_depth=10, splitter=best .....................\n",
      "[CV] ...... criterion=gini, max_depth=10, splitter=best, total=   0.0s\n",
      "[CV] criterion=gini, max_depth=10, splitter=best .....................\n",
      "[CV] ...... criterion=gini, max_depth=10, splitter=best, total=   0.0s\n",
      "[CV] criterion=gini, max_depth=10, splitter=best .....................\n",
      "[CV] ...... criterion=gini, max_depth=10, splitter=best, total=   0.0s\n",
      "[CV] criterion=gini, max_depth=10, splitter=best .....................\n",
      "[CV] ...... criterion=gini, max_depth=10, splitter=best, total=   0.0s\n",
      "[CV] criterion=gini, max_depth=10, splitter=best .....................\n",
      "[CV] ...... criterion=gini, max_depth=10, splitter=best, total=   0.0s\n",
      "[CV] criterion=gini, max_depth=10, splitter=best .....................\n",
      "[CV] ...... criterion=gini, max_depth=10, splitter=best, total=   0.0s\n",
      "[CV] criterion=gini, max_depth=10, splitter=best .....................\n",
      "[CV] ...... criterion=gini, max_depth=10, splitter=best, total=   0.0s\n",
      "[CV] criterion=gini, max_depth=10, splitter=best .....................\n",
      "[CV] ...... criterion=gini, max_depth=10, splitter=best, total=   0.0s\n",
      "[CV] criterion=gini, max_depth=10, splitter=best .....................\n",
      "[CV] ...... criterion=gini, max_depth=10, splitter=best, total=   0.0s\n",
      "[CV] criterion=gini, max_depth=10, splitter=best .....................\n",
      "[CV] ...... criterion=gini, max_depth=10, splitter=best, total=   0.0s\n",
      "[CV] criterion=gini, max_depth=10, splitter=random ...................\n",
      "[CV] .... criterion=gini, max_depth=10, splitter=random, total=   0.0s\n",
      "[CV] criterion=gini, max_depth=10, splitter=random ...................\n",
      "[CV] .... criterion=gini, max_depth=10, splitter=random, total=   0.0s\n",
      "[CV] criterion=gini, max_depth=10, splitter=random ...................\n",
      "[CV] .... criterion=gini, max_depth=10, splitter=random, total=   0.0s\n",
      "[CV] criterion=gini, max_depth=10, splitter=random ...................\n",
      "[CV] .... criterion=gini, max_depth=10, splitter=random, total=   0.0s\n",
      "[CV] criterion=gini, max_depth=10, splitter=random ...................\n",
      "[CV] .... criterion=gini, max_depth=10, splitter=random, total=   0.0s\n",
      "[CV] criterion=gini, max_depth=10, splitter=random ...................\n",
      "[CV] .... criterion=gini, max_depth=10, splitter=random, total=   0.0s\n",
      "[CV] criterion=gini, max_depth=10, splitter=random ...................\n"
     ]
    },
    {
     "name": "stderr",
     "output_type": "stream",
     "text": [
      "[Parallel(n_jobs=1)]: Done   1 out of   1 | elapsed:    0.0s remaining:    0.0s\n"
     ]
    },
    {
     "name": "stdout",
     "output_type": "stream",
     "text": [
      "[CV] .... criterion=gini, max_depth=10, splitter=random, total=   0.0s\n",
      "[CV] criterion=gini, max_depth=10, splitter=random ...................\n",
      "[CV] .... criterion=gini, max_depth=10, splitter=random, total=   0.0s\n",
      "[CV] criterion=gini, max_depth=10, splitter=random ...................\n",
      "[CV] .... criterion=gini, max_depth=10, splitter=random, total=   0.0s\n",
      "[CV] criterion=gini, max_depth=10, splitter=random ...................\n",
      "[CV] .... criterion=gini, max_depth=10, splitter=random, total=   0.0s\n",
      "[CV] criterion=gini, max_depth=20, splitter=best .....................\n",
      "[CV] ...... criterion=gini, max_depth=20, splitter=best, total=   0.0s\n",
      "[CV] criterion=gini, max_depth=20, splitter=best .....................\n",
      "[CV] ...... criterion=gini, max_depth=20, splitter=best, total=   0.0s\n",
      "[CV] criterion=gini, max_depth=20, splitter=best .....................\n",
      "[CV] ...... criterion=gini, max_depth=20, splitter=best, total=   0.0s\n",
      "[CV] criterion=gini, max_depth=20, splitter=best .....................\n",
      "[CV] ...... criterion=gini, max_depth=20, splitter=best, total=   0.0s\n",
      "[CV] criterion=gini, max_depth=20, splitter=best .....................\n",
      "[CV] ...... criterion=gini, max_depth=20, splitter=best, total=   0.0s\n",
      "[CV] criterion=gini, max_depth=20, splitter=best .....................\n",
      "[CV] ...... criterion=gini, max_depth=20, splitter=best, total=   0.0s\n",
      "[CV] criterion=gini, max_depth=20, splitter=best .....................\n",
      "[CV] ...... criterion=gini, max_depth=20, splitter=best, total=   0.0s\n",
      "[CV] criterion=gini, max_depth=20, splitter=best .....................\n",
      "[CV] ...... criterion=gini, max_depth=20, splitter=best, total=   0.0s\n",
      "[CV] criterion=gini, max_depth=20, splitter=best .....................\n",
      "[CV] ...... criterion=gini, max_depth=20, splitter=best, total=   0.0s\n",
      "[CV] criterion=gini, max_depth=20, splitter=best .....................\n",
      "[CV] ...... criterion=gini, max_depth=20, splitter=best, total=   0.0s\n",
      "[CV] criterion=gini, max_depth=20, splitter=random ...................\n",
      "[CV] .... criterion=gini, max_depth=20, splitter=random, total=   0.0s\n",
      "[CV] criterion=gini, max_depth=20, splitter=random ...................\n",
      "[CV] .... criterion=gini, max_depth=20, splitter=random, total=   0.0s\n",
      "[CV] criterion=gini, max_depth=20, splitter=random ...................\n",
      "[CV] .... criterion=gini, max_depth=20, splitter=random, total=   0.0s\n",
      "[CV] criterion=gini, max_depth=20, splitter=random ...................\n",
      "[CV] .... criterion=gini, max_depth=20, splitter=random, total=   0.0s\n",
      "[CV] criterion=gini, max_depth=20, splitter=random ...................\n",
      "[CV] .... criterion=gini, max_depth=20, splitter=random, total=   0.0s\n",
      "[CV] criterion=gini, max_depth=20, splitter=random ...................\n",
      "[CV] .... criterion=gini, max_depth=20, splitter=random, total=   0.0s\n",
      "[CV] criterion=gini, max_depth=20, splitter=random ...................\n",
      "[CV] .... criterion=gini, max_depth=20, splitter=random, total=   0.0s\n",
      "[CV] criterion=gini, max_depth=20, splitter=random ...................\n",
      "[CV] .... criterion=gini, max_depth=20, splitter=random, total=   0.0s\n",
      "[CV] criterion=gini, max_depth=20, splitter=random ...................\n",
      "[CV] .... criterion=gini, max_depth=20, splitter=random, total=   0.0s\n",
      "[CV] criterion=gini, max_depth=20, splitter=random ...................\n",
      "[CV] .... criterion=gini, max_depth=20, splitter=random, total=   0.0s\n",
      "[CV] criterion=entropy, max_depth=2, splitter=best ...................\n",
      "[CV] .... criterion=entropy, max_depth=2, splitter=best, total=   0.0s\n",
      "[CV] criterion=entropy, max_depth=2, splitter=best ...................\n",
      "[CV] .... criterion=entropy, max_depth=2, splitter=best, total=   0.0s\n",
      "[CV] criterion=entropy, max_depth=2, splitter=best ...................\n",
      "[CV] .... criterion=entropy, max_depth=2, splitter=best, total=   0.0s\n",
      "[CV] criterion=entropy, max_depth=2, splitter=best ...................\n",
      "[CV] .... criterion=entropy, max_depth=2, splitter=best, total=   0.0s\n",
      "[CV] criterion=entropy, max_depth=2, splitter=best ...................\n",
      "[CV] .... criterion=entropy, max_depth=2, splitter=best, total=   0.0s\n",
      "[CV] criterion=entropy, max_depth=2, splitter=best ...................\n",
      "[CV] .... criterion=entropy, max_depth=2, splitter=best, total=   0.0s\n",
      "[CV] criterion=entropy, max_depth=2, splitter=best ...................\n",
      "[CV] .... criterion=entropy, max_depth=2, splitter=best, total=   0.0s\n",
      "[CV] criterion=entropy, max_depth=2, splitter=best ...................\n",
      "[CV] .... criterion=entropy, max_depth=2, splitter=best, total=   0.0s\n",
      "[CV] criterion=entropy, max_depth=2, splitter=best ...................\n",
      "[CV] .... criterion=entropy, max_depth=2, splitter=best, total=   0.0s\n",
      "[CV] criterion=entropy, max_depth=2, splitter=best ...................\n",
      "[CV] .... criterion=entropy, max_depth=2, splitter=best, total=   0.0s\n",
      "[CV] criterion=entropy, max_depth=2, splitter=random .................\n",
      "[CV] .. criterion=entropy, max_depth=2, splitter=random, total=   0.0s\n",
      "[CV] criterion=entropy, max_depth=2, splitter=random .................\n",
      "[CV] .. criterion=entropy, max_depth=2, splitter=random, total=   0.0s\n",
      "[CV] criterion=entropy, max_depth=2, splitter=random .................\n",
      "[CV] .. criterion=entropy, max_depth=2, splitter=random, total=   0.0s\n",
      "[CV] criterion=entropy, max_depth=2, splitter=random .................\n",
      "[CV] .. criterion=entropy, max_depth=2, splitter=random, total=   0.0s\n",
      "[CV] criterion=entropy, max_depth=2, splitter=random .................\n",
      "[CV] .. criterion=entropy, max_depth=2, splitter=random, total=   0.0s\n",
      "[CV] criterion=entropy, max_depth=2, splitter=random .................\n",
      "[CV] .. criterion=entropy, max_depth=2, splitter=random, total=   0.0s\n",
      "[CV] criterion=entropy, max_depth=2, splitter=random .................\n",
      "[CV] .. criterion=entropy, max_depth=2, splitter=random, total=   0.0s\n",
      "[CV] criterion=entropy, max_depth=2, splitter=random .................\n",
      "[CV] .. criterion=entropy, max_depth=2, splitter=random, total=   0.0s\n",
      "[CV] criterion=entropy, max_depth=2, splitter=random .................\n",
      "[CV] .. criterion=entropy, max_depth=2, splitter=random, total=   0.0s\n",
      "[CV] criterion=entropy, max_depth=2, splitter=random .................\n",
      "[CV] .. criterion=entropy, max_depth=2, splitter=random, total=   0.0s\n",
      "[CV] criterion=entropy, max_depth=5, splitter=best ...................\n",
      "[CV] .... criterion=entropy, max_depth=5, splitter=best, total=   0.0s\n",
      "[CV] criterion=entropy, max_depth=5, splitter=best ...................\n",
      "[CV] .... criterion=entropy, max_depth=5, splitter=best, total=   0.0s\n",
      "[CV] criterion=entropy, max_depth=5, splitter=best ...................\n",
      "[CV] .... criterion=entropy, max_depth=5, splitter=best, total=   0.0s\n",
      "[CV] criterion=entropy, max_depth=5, splitter=best ...................\n",
      "[CV] .... criterion=entropy, max_depth=5, splitter=best, total=   0.0s\n",
      "[CV] criterion=entropy, max_depth=5, splitter=best ...................\n",
      "[CV] .... criterion=entropy, max_depth=5, splitter=best, total=   0.0s\n",
      "[CV] criterion=entropy, max_depth=5, splitter=best ...................\n",
      "[CV] .... criterion=entropy, max_depth=5, splitter=best, total=   0.0s\n",
      "[CV] criterion=entropy, max_depth=5, splitter=best ...................\n",
      "[CV] .... criterion=entropy, max_depth=5, splitter=best, total=   0.0s\n",
      "[CV] criterion=entropy, max_depth=5, splitter=best ...................\n",
      "[CV] .... criterion=entropy, max_depth=5, splitter=best, total=   0.0s\n",
      "[CV] criterion=entropy, max_depth=5, splitter=best ...................\n",
      "[CV] .... criterion=entropy, max_depth=5, splitter=best, total=   0.0s\n",
      "[CV] criterion=entropy, max_depth=5, splitter=best ...................\n",
      "[CV] .... criterion=entropy, max_depth=5, splitter=best, total=   0.0s\n",
      "[CV] criterion=entropy, max_depth=5, splitter=random .................\n",
      "[CV] .. criterion=entropy, max_depth=5, splitter=random, total=   0.0s\n",
      "[CV] criterion=entropy, max_depth=5, splitter=random .................\n",
      "[CV] .. criterion=entropy, max_depth=5, splitter=random, total=   0.0s\n",
      "[CV] criterion=entropy, max_depth=5, splitter=random .................\n",
      "[CV] .. criterion=entropy, max_depth=5, splitter=random, total=   0.0s\n",
      "[CV] criterion=entropy, max_depth=5, splitter=random .................\n",
      "[CV] .. criterion=entropy, max_depth=5, splitter=random, total=   0.0s\n",
      "[CV] criterion=entropy, max_depth=5, splitter=random .................\n",
      "[CV] .. criterion=entropy, max_depth=5, splitter=random, total=   0.0s\n",
      "[CV] criterion=entropy, max_depth=5, splitter=random .................\n",
      "[CV] .. criterion=entropy, max_depth=5, splitter=random, total=   0.0s\n",
      "[CV] criterion=entropy, max_depth=5, splitter=random .................\n",
      "[CV] .. criterion=entropy, max_depth=5, splitter=random, total=   0.0s\n",
      "[CV] criterion=entropy, max_depth=5, splitter=random .................\n",
      "[CV] .. criterion=entropy, max_depth=5, splitter=random, total=   0.0s\n",
      "[CV] criterion=entropy, max_depth=5, splitter=random .................\n",
      "[CV] .. criterion=entropy, max_depth=5, splitter=random, total=   0.0s\n",
      "[CV] criterion=entropy, max_depth=5, splitter=random .................\n",
      "[CV] .. criterion=entropy, max_depth=5, splitter=random, total=   0.0s\n",
      "[CV] criterion=entropy, max_depth=10, splitter=best ..................\n",
      "[CV] ... criterion=entropy, max_depth=10, splitter=best, total=   0.0s\n",
      "[CV] criterion=entropy, max_depth=10, splitter=best ..................\n",
      "[CV] ... criterion=entropy, max_depth=10, splitter=best, total=   0.0s\n",
      "[CV] criterion=entropy, max_depth=10, splitter=best ..................\n",
      "[CV] ... criterion=entropy, max_depth=10, splitter=best, total=   0.0s\n",
      "[CV] criterion=entropy, max_depth=10, splitter=best ..................\n",
      "[CV] ... criterion=entropy, max_depth=10, splitter=best, total=   0.0s\n",
      "[CV] criterion=entropy, max_depth=10, splitter=best ..................\n",
      "[CV] ... criterion=entropy, max_depth=10, splitter=best, total=   0.0s\n",
      "[CV] criterion=entropy, max_depth=10, splitter=best ..................\n",
      "[CV] ... criterion=entropy, max_depth=10, splitter=best, total=   0.0s\n",
      "[CV] criterion=entropy, max_depth=10, splitter=best ..................\n",
      "[CV] ... criterion=entropy, max_depth=10, splitter=best, total=   0.0s\n",
      "[CV] criterion=entropy, max_depth=10, splitter=best ..................\n",
      "[CV] ... criterion=entropy, max_depth=10, splitter=best, total=   0.0s\n",
      "[CV] criterion=entropy, max_depth=10, splitter=best ..................\n",
      "[CV] ... criterion=entropy, max_depth=10, splitter=best, total=   0.0s\n",
      "[CV] criterion=entropy, max_depth=10, splitter=best ..................\n",
      "[CV] ... criterion=entropy, max_depth=10, splitter=best, total=   0.0s\n",
      "[CV] criterion=entropy, max_depth=10, splitter=random ................\n",
      "[CV] . criterion=entropy, max_depth=10, splitter=random, total=   0.0s\n",
      "[CV] criterion=entropy, max_depth=10, splitter=random ................\n",
      "[CV] . criterion=entropy, max_depth=10, splitter=random, total=   0.0s\n",
      "[CV] criterion=entropy, max_depth=10, splitter=random ................\n",
      "[CV] . criterion=entropy, max_depth=10, splitter=random, total=   0.0s\n",
      "[CV] criterion=entropy, max_depth=10, splitter=random ................\n",
      "[CV] . criterion=entropy, max_depth=10, splitter=random, total=   0.0s\n",
      "[CV] criterion=entropy, max_depth=10, splitter=random ................\n",
      "[CV] . criterion=entropy, max_depth=10, splitter=random, total=   0.0s\n",
      "[CV] criterion=entropy, max_depth=10, splitter=random ................\n",
      "[CV] . criterion=entropy, max_depth=10, splitter=random, total=   0.0s\n",
      "[CV] criterion=entropy, max_depth=10, splitter=random ................\n",
      "[CV] . criterion=entropy, max_depth=10, splitter=random, total=   0.0s\n",
      "[CV] criterion=entropy, max_depth=10, splitter=random ................\n",
      "[CV] . criterion=entropy, max_depth=10, splitter=random, total=   0.0s\n",
      "[CV] criterion=entropy, max_depth=10, splitter=random ................\n",
      "[CV] . criterion=entropy, max_depth=10, splitter=random, total=   0.0s\n",
      "[CV] criterion=entropy, max_depth=10, splitter=random ................\n",
      "[CV] . criterion=entropy, max_depth=10, splitter=random, total=   0.0s\n",
      "[CV] criterion=entropy, max_depth=20, splitter=best ..................\n",
      "[CV] ... criterion=entropy, max_depth=20, splitter=best, total=   0.0s\n",
      "[CV] criterion=entropy, max_depth=20, splitter=best ..................\n",
      "[CV] ... criterion=entropy, max_depth=20, splitter=best, total=   0.0s\n",
      "[CV] criterion=entropy, max_depth=20, splitter=best ..................\n",
      "[CV] ... criterion=entropy, max_depth=20, splitter=best, total=   0.0s\n",
      "[CV] criterion=entropy, max_depth=20, splitter=best ..................\n",
      "[CV] ... criterion=entropy, max_depth=20, splitter=best, total=   0.0s\n",
      "[CV] criterion=entropy, max_depth=20, splitter=best ..................\n",
      "[CV] ... criterion=entropy, max_depth=20, splitter=best, total=   0.0s\n",
      "[CV] criterion=entropy, max_depth=20, splitter=best ..................\n",
      "[CV] ... criterion=entropy, max_depth=20, splitter=best, total=   0.0s\n",
      "[CV] criterion=entropy, max_depth=20, splitter=best ..................\n",
      "[CV] ... criterion=entropy, max_depth=20, splitter=best, total=   0.0s\n",
      "[CV] criterion=entropy, max_depth=20, splitter=best ..................\n",
      "[CV] ... criterion=entropy, max_depth=20, splitter=best, total=   0.0s\n",
      "[CV] criterion=entropy, max_depth=20, splitter=best ..................\n",
      "[CV] ... criterion=entropy, max_depth=20, splitter=best, total=   0.0s\n",
      "[CV] criterion=entropy, max_depth=20, splitter=best ..................\n",
      "[CV] ... criterion=entropy, max_depth=20, splitter=best, total=   0.0s\n",
      "[CV] criterion=entropy, max_depth=20, splitter=random ................\n",
      "[CV] . criterion=entropy, max_depth=20, splitter=random, total=   0.0s\n",
      "[CV] criterion=entropy, max_depth=20, splitter=random ................\n",
      "[CV] . criterion=entropy, max_depth=20, splitter=random, total=   0.0s\n",
      "[CV] criterion=entropy, max_depth=20, splitter=random ................\n",
      "[CV] . criterion=entropy, max_depth=20, splitter=random, total=   0.0s\n",
      "[CV] criterion=entropy, max_depth=20, splitter=random ................\n",
      "[CV] . criterion=entropy, max_depth=20, splitter=random, total=   0.0s\n",
      "[CV] criterion=entropy, max_depth=20, splitter=random ................\n",
      "[CV] . criterion=entropy, max_depth=20, splitter=random, total=   0.0s\n",
      "[CV] criterion=entropy, max_depth=20, splitter=random ................\n",
      "[CV] . criterion=entropy, max_depth=20, splitter=random, total=   0.0s\n",
      "[CV] criterion=entropy, max_depth=20, splitter=random ................\n",
      "[CV] . criterion=entropy, max_depth=20, splitter=random, total=   0.0s\n",
      "[CV] criterion=entropy, max_depth=20, splitter=random ................\n",
      "[CV] . criterion=entropy, max_depth=20, splitter=random, total=   0.0s\n",
      "[CV] criterion=entropy, max_depth=20, splitter=random ................\n",
      "[CV] . criterion=entropy, max_depth=20, splitter=random, total=   0.0s\n",
      "[CV] criterion=entropy, max_depth=20, splitter=random ................\n"
     ]
    },
    {
     "name": "stdout",
     "output_type": "stream",
     "text": [
      "[CV] . criterion=entropy, max_depth=20, splitter=random, total=   0.0s\n"
     ]
    },
    {
     "name": "stderr",
     "output_type": "stream",
     "text": [
      "[Parallel(n_jobs=1)]: Done 160 out of 160 | elapsed:    0.6s finished\n"
     ]
    },
    {
     "data": {
      "text/plain": [
       "GridSearchCV(cv=10, error_score='raise',\n",
       "       estimator=DecisionTreeClassifier(class_weight=None, criterion='gini', max_depth=None,\n",
       "            max_features=None, max_leaf_nodes=None,\n",
       "            min_impurity_decrease=0.0, min_impurity_split=None,\n",
       "            min_samples_leaf=1, min_samples_split=2,\n",
       "            min_weight_fraction_leaf=0.0, presort=False, random_state=None,\n",
       "            splitter='best'),\n",
       "       fit_params=None, iid=True, n_jobs=1,\n",
       "       param_grid={'criterion': ('gini', 'entropy'), 'splitter': ('best', 'random'), 'max_depth': (2, 5, 10, 20)},\n",
       "       pre_dispatch='2*n_jobs', refit=True, return_train_score='warn',\n",
       "       scoring=None, verbose=2)"
      ]
     },
     "execution_count": 15,
     "metadata": {},
     "output_type": "execute_result"
    }
   ],
   "source": [
    "dt_clf.fit(testX,testY)"
   ]
  },
  {
   "cell_type": "code",
   "execution_count": 16,
   "metadata": {},
   "outputs": [
    {
     "data": {
      "text/plain": [
       "{'criterion': 'gini', 'max_depth': 2, 'splitter': 'best'}"
      ]
     },
     "execution_count": 16,
     "metadata": {},
     "output_type": "execute_result"
    }
   ],
   "source": [
    "dt_clf.best_params_"
   ]
  },
  {
   "cell_type": "code",
   "execution_count": 17,
   "metadata": {},
   "outputs": [
    {
     "data": {
      "text/plain": [
       "0.67375"
      ]
     },
     "execution_count": 17,
     "metadata": {},
     "output_type": "execute_result"
    }
   ],
   "source": [
    "accuracy_score(trainY,dt_clf.predict(trainX))"
   ]
  },
  {
   "cell_type": "code",
   "execution_count": 18,
   "metadata": {},
   "outputs": [
    {
     "data": {
      "text/plain": [
       "0.755"
      ]
     },
     "execution_count": 18,
     "metadata": {},
     "output_type": "execute_result"
    }
   ],
   "source": [
    "accuracy_score(testY,dt_clf.predict(testX))"
   ]
  },
  {
   "cell_type": "code",
   "execution_count": 19,
   "metadata": {},
   "outputs": [],
   "source": [
    "def plot_parameter_performance(model):\n",
    "    scores = [i[1] for i in model.grid_scores_]\n",
    "    print(model.grid_scores_[model.best_index_][0])\n",
    "    plt.plot(range(len(scores)),scores,'-*',markevery=[model.best_index_],markerfacecolor='red',markersize=15)"
   ]
  },
  {
   "cell_type": "code",
   "execution_count": 20,
   "metadata": {},
   "outputs": [
    {
     "name": "stderr",
     "output_type": "stream",
     "text": [
      "/home/hitkul/anaconda3/envs/ml_ass/lib/python3.6/site-packages/sklearn/model_selection/_search.py:762: DeprecationWarning: The grid_scores_ attribute was deprecated in version 0.18 in favor of the more elaborate cv_results_ attribute. The grid_scores_ attribute will not be available from 0.20\n",
      "  DeprecationWarning)\n",
      "/home/hitkul/anaconda3/envs/ml_ass/lib/python3.6/site-packages/sklearn/model_selection/_search.py:762: DeprecationWarning: The grid_scores_ attribute was deprecated in version 0.18 in favor of the more elaborate cv_results_ attribute. The grid_scores_ attribute will not be available from 0.20\n",
      "  DeprecationWarning)\n"
     ]
    },
    {
     "name": "stdout",
     "output_type": "stream",
     "text": [
      "{'criterion': 'gini', 'max_depth': 10, 'n_estimators': 200}\n"
     ]
    },
    {
     "data": {
      "image/png": "[encoded data removed]",
      "text/plain": [
       "<Figure size 432x288 with 1 Axes>"
      ]
     },
     "metadata": {
      "needs_background": "light"
     },
     "output_type": "display_data"
    }
   ],
   "source": [
    "plot_parameter_performance(rf_clf)"
   ]
  },
  {
   "cell_type": "code",
   "execution_count": 21,
   "metadata": {},
   "outputs": [
    {
     "name": "stderr",
     "output_type": "stream",
     "text": [
      "/home/hitkul/anaconda3/envs/ml_ass/lib/python3.6/site-packages/sklearn/model_selection/_search.py:762: DeprecationWarning: The grid_scores_ attribute was deprecated in version 0.18 in favor of the more elaborate cv_results_ attribute. The grid_scores_ attribute will not be available from 0.20\n",
      "  DeprecationWarning)\n",
      "/home/hitkul/anaconda3/envs/ml_ass/lib/python3.6/site-packages/sklearn/model_selection/_search.py:762: DeprecationWarning: The grid_scores_ attribute was deprecated in version 0.18 in favor of the more elaborate cv_results_ attribute. The grid_scores_ attribute will not be available from 0.20\n",
      "  DeprecationWarning)\n"
     ]
    },
    {
     "name": "stdout",
     "output_type": "stream",
     "text": [
      "{'criterion': 'gini', 'max_depth': 2, 'splitter': 'best'}\n"
     ]
    },
    {
     "data": {
      "image/png": "[encoded data removed]",
      "text/plain": [
       "<Figure size 432x288 with 1 Axes>"
      ]
     },
     "metadata": {
      "needs_background": "light"
     },
     "output_type": "display_data"
    }
   ],
   "source": [
    "plot_parameter_performance(dt_clf)"
   ]
  },
  {
   "cell_type": "code",
   "execution_count": 25,
   "metadata": {},
   "outputs": [],
   "source": [
    "def plot_learning_curve(model,trainX,trainY):\n",
    "    train_sizes, train_scores, valid_scores = learning_curve(model, trainX, trainY, train_sizes=[100, 200, 300,400,500,600,719], cv=10)\n",
    "    mean_train_score = pd.np.mean(train_scores,axis=1)\n",
    "    mean_valid_score = pd.np.mean(valid_scores,axis=1)\n",
    "    plt.plot(train_sizes,mean_train_score)\n",
    "    plt.plot(train_sizes,mean_valid_score)"
   ]
  },
  {
   "cell_type": "code",
   "execution_count": 26,
   "metadata": {},
   "outputs": [
    {
     "data": {
      "image/png": "[encoded data removed]",
      "text/plain": [
       "<Figure size 432x288 with 1 Axes>"
      ]
     },
     "metadata": {
      "needs_background": "light"
     },
     "output_type": "display_data"
    }
   ],
   "source": [
    "plot_learning_curve(rf_clf.best_estimator_,trainX,trainY)"
   ]
  },
  {
   "cell_type": "code",
   "execution_count": 27,
   "metadata": {},
   "outputs": [
    {
     "data": {
      "image/png": "[encoded data removed]",
      "text/plain": [
       "<Figure size 432x288 with 1 Axes>"
      ]
     },
     "metadata": {
      "needs_background": "light"
     },
     "output_type": "display_data"
    }
   ],
   "source": [
    "plot_learning_curve(dt_clf.best_estimator_,trainX,trainY)"
   ]
  },
  {
   "cell_type": "markdown",
   "metadata": {},
   "source": [
    "## Question d)"
   ]
  },
  {
   "cell_type": "code",
   "execution_count": 29,
   "metadata": {},
   "outputs": [],
   "source": [
    "kfold = KFold(n_splits=10)"
   ]
  },
  {
   "cell_type": "code",
   "execution_count": 31,
   "metadata": {},
   "outputs": [],
   "source": [
    "rf_validation_errors = []\n",
    "dt_validation_errors = []"
   ]
  },
  {
   "cell_type": "code",
   "execution_count": 33,
   "metadata": {},
   "outputs": [],
   "source": [
    "for train_index,test_index in kfold.split(trainX):\n",
    "    train_x = trainX[train_index]\n",
    "    train_y = trainY[train_index]\n",
    "    val_x = trainX[test_index]\n",
    "    val_y = trainY[test_index]\n",
    "    \n",
    "    rf = RandomForestClassifier(criterion='gini', max_depth=10, n_estimators =200)\n",
    "    dt = DecisionTreeClassifier(criterion ='gini', max_depth= 2, splitter = 'best')\n",
    "    \n",
    "    rf.fit(train_x,train_y)\n",
    "    dt.fit(train_x,train_y)\n",
    "    \n",
    "    rf_validation_errors.append(1.0 - accuracy_score(val_y,rf.predict(val_x)))\n",
    "    dt_validation_errors.append(1.0 - accuracy_score(val_y,dt.predict(val_x)))"
   ]
  },
  {
   "cell_type": "code",
   "execution_count": 34,
   "metadata": {},
   "outputs": [
    {
     "data": {
      "text/plain": [
       "(10, 10)"
      ]
     },
     "execution_count": 34,
     "metadata": {},
     "output_type": "execute_result"
    }
   ],
   "source": [
    "len(rf_validation_errors),len(dt_validation_errors)"
   ]
  },
  {
   "cell_type": "code",
   "execution_count": 35,
   "metadata": {},
   "outputs": [],
   "source": [
    "rf_error_variance = pd.np.var(rf_validation_errors)\n",
    "dt_error_variance = pd.np.var(dt_validation_errors)"
   ]
  },
  {
   "cell_type": "code",
   "execution_count": 36,
   "metadata": {},
   "outputs": [
    {
     "data": {
      "text/plain": [
       "(0.0009749999999999996, 0.0027015625000000017)"
      ]
     },
     "execution_count": 36,
     "metadata": {},
     "output_type": "execute_result"
    }
   ],
   "source": [
    "rf_error_variance,dt_error_variance"
   ]
  },
  {
   "cell_type": "code",
   "execution_count": 39,
   "metadata": {},
   "outputs": [
    {
     "data": {
      "text/plain": [
       "['data/dt_best.joblib']"
      ]
     },
     "execution_count": 39,
     "metadata": {},
     "output_type": "execute_result"
    }
   ],
   "source": [
    "joblib.dump(rf_clf.best_estimator_, 'data/rf_best.joblib') \n",
    "joblib.dump(dt_clf.best_estimator_, 'data/dt_best.joblib') "
   ]
  },
  {
   "cell_type": "code",
   "execution_count": null,
   "metadata": {},
   "outputs": [],
   "source": []
  },
  {
   "cell_type": "code",
   "execution_count": 40,
   "metadata": {},
   "outputs": [],
   "source": [
    "rf_loaded = joblib.load('data/rf_best.joblib')\n",
    "dt_loaded = joblib.load('data/dt_best.joblib')"
   ]
  },
  {
   "cell_type": "code",
   "execution_count": 41,
   "metadata": {},
   "outputs": [
    {
     "data": {
      "text/plain": [
       "0.755"
      ]
     },
     "execution_count": 41,
     "metadata": {},
     "output_type": "execute_result"
    }
   ],
   "source": [
    "accuracy_score(testY,rf_loaded.predict(testX))"
   ]
  },
  {
   "cell_type": "code",
   "execution_count": 42,
   "metadata": {},
   "outputs": [
    {
     "data": {
      "text/plain": [
       "0.755"
      ]
     },
     "execution_count": 42,
     "metadata": {},
     "output_type": "execute_result"
    }
   ],
   "source": [
    "accuracy_score(testY,dt_loaded.predict(testX))"
   ]
  }
 ],
 "metadata": {
  "kernelspec": {
   "display_name": "Python (ml_ass)",
   "language": "python",
   "name": "ml_ass"
  },
  "language_info": {
   "codemirror_mode": {
    "name": "ipython",
    "version": 3
   },
   "file_extension": ".py",
   "mimetype": "text/x-python",
   "name": "python",
   "nbconvert_exporter": "python",
   "pygments_lexer": "ipython3",
   "version": "3.6.7"
  }
 },
 "nbformat": 4,
 "nbformat_minor": 2
}
